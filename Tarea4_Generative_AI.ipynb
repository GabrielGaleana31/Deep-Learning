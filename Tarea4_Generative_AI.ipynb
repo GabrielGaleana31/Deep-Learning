{
  "nbformat": 4,
  "nbformat_minor": 0,
  "metadata": {
    "colab": {
      "provenance": [],
      "gpuType": "T4"
    },
    "kernelspec": {
      "name": "python3",
      "display_name": "Python 3"
    },
    "language_info": {
      "name": "python"
    },
    "accelerator": "GPU"
  },
  "cells": [
    {
      "cell_type": "markdown",
      "source": [
        "#Tarea 4: Generative AI\n",
        "Pablo Gabriel Galeana Benítez - A01735281\n"
      ],
      "metadata": {
        "id": "TU7_8q38-zqX"
      }
    },
    {
      "cell_type": "markdown",
      "source": [
        "\n",
        "\n",
        "---\n",
        "\n"
      ],
      "metadata": {
        "id": "NVGxNc_i_XZg"
      }
    },
    {
      "cell_type": "markdown",
      "source": [
        "## Introducción\n",
        "\n",
        "En el presente trabajo se abordo el problema de generación de texto utilizando redes neuronales recurrentes, en especifico las denominadas Long-Short Term Memory con un enfoque de caractéres, que se codificaron utilizando el algoritmo Bag of Words. Se entrenaron dos diferentes modelos con el fin de medir o comparar el efecto del tuneo del tamaño de la secuencia de palabras durante el entrenamiento.\n",
        "\n",
        "El codigo original corresponde a Sunny Solanski y esta es meramente una adaptación. Se puede encontrar el original en:\n",
        "\n",
        "[Keras: Text Generation using LSTM Networks (Character-based RNN)](https://coderzcolumn.com/tutorials/artificial-intelligence/keras-text-generation-using-lstm-networks)\n",
        "\n"
      ],
      "metadata": {
        "id": "4C25Df8A_XS0"
      }
    },
    {
      "cell_type": "markdown",
      "source": [
        "\n",
        "\n",
        "---\n",
        "\n"
      ],
      "metadata": {
        "id": "ioHWAHCNR9tw"
      }
    },
    {
      "cell_type": "markdown",
      "source": [
        "## Preparación del dataset\n"
      ],
      "metadata": {
        "id": "krB8_btmN1VA"
      }
    },
    {
      "cell_type": "markdown",
      "source": [
        "  Previo a entrenar los modelos, se requiere realizar algunos preparativos con el fin de conocer a profundidad como entrarán los datos y porque funcionan."
      ],
      "metadata": {
        "id": "8C2ONpk5N4OA"
      }
    },
    {
      "cell_type": "markdown",
      "source": [
        "Primeramente, cargamos las librerías necesarias para poder funcionar."
      ],
      "metadata": {
        "id": "k6El6RSEOrgX"
      }
    },
    {
      "cell_type": "code",
      "source": [
        "import tensorflow\n",
        "from tensorflow import keras\n",
        "from tensorflow.keras.preprocessing.text import Tokenizer\n",
        "from tensorflow.keras.models import Sequential\n",
        "from tensorflow.keras.layers import LSTM, Dense, Embedding\n",
        "from tensorflow.keras.optimizers import Adam\n",
        "from keras import backend as K\n",
        "from tensorflow.keras.models import load_model\n",
        "\n",
        "import matplotlib.pyplot as plt\n",
        "import shutil\n",
        "import pandas as pd\n",
        "import torchtext\n",
        "import gc\n",
        "import numpy as np\n",
        "import random\n",
        "import pickle\n"
      ],
      "metadata": {
        "id": "W9s5gA5TxMQr"
      },
      "execution_count": 18,
      "outputs": []
    },
    {
      "cell_type": "markdown",
      "source": [
        "Comunmente el tamaño de los datasets es bastante grande con el fin de que este sea lo suficientemente variado y por lo tanto el modelo pueda generalizar. Sin embargo, esto hace que el entrenamiento sea bastante tardado y fuerce mucho la capacidad computacional. Una manera de acelerar este proceso es utilizar unidades de procesamiento de graficos (GPU), las cuales trabajan muy bien con tensores.\n",
        "\n",
        "Para poder utilizar estas GPU se desarrolló el codigo en Google Colab, sin embargo, solo se puede utilizar por un corto periodo de tiempo al día, por lo cual se opto por guardar los modelos y sus historiales de entrenamiento una vez ha terminado de correr el entrenamiento.\n",
        "\n",
        "Para ello, es necesario cargar el drive en el notebook para acceder a las carpetas."
      ],
      "metadata": {
        "id": "Evv8YCV9PUIG"
      }
    },
    {
      "cell_type": "code",
      "source": [
        "from google.colab import drive\n",
        "drive.mount('/content/drive')"
      ],
      "metadata": {
        "id": "Tsg4aC0HImY4",
        "colab": {
          "base_uri": "https://localhost:8080/",
          "height": 0
        },
        "outputId": "dafd543e-8d67-460f-d7d9-9a50089d3294"
      },
      "execution_count": 2,
      "outputs": [
        {
          "output_type": "stream",
          "name": "stdout",
          "text": [
            "Mounted at /content/drive\n"
          ]
        }
      ]
    },
    {
      "cell_type": "markdown",
      "source": [
        "Una vez cargado el drive, nos movemos a la carpeta requerida."
      ],
      "metadata": {
        "id": "9qwQ2WriSB5y"
      }
    },
    {
      "cell_type": "code",
      "source": [
        "%cd /content/drive/Shareddrives/Deep Learning/GenerativeAI"
      ],
      "metadata": {
        "id": "UZIeVafmBJP5",
        "colab": {
          "base_uri": "https://localhost:8080/",
          "height": 0
        },
        "outputId": "40fca39a-9af3-4c9f-ee5a-f7a947c6ac6d"
      },
      "execution_count": 3,
      "outputs": [
        {
          "output_type": "stream",
          "name": "stdout",
          "text": [
            "/content/drive/Shareddrives/Deep Learning/GenerativeAI\n"
          ]
        }
      ]
    },
    {
      "cell_type": "markdown",
      "source": [
        "El dataset se cargo desde la librería torchtext, pero por cuestiones de compatabilidad se requiere instalar la librería portalocker, la cual administra recursos y procesos computacionales para evitar que estos interfieran unos con otros."
      ],
      "metadata": {
        "id": "j53j6yd8SnIU"
      }
    },
    {
      "cell_type": "code",
      "source": [
        "!pip install 'portalocker'"
      ],
      "metadata": {
        "id": "SOU01sbVyoWJ",
        "colab": {
          "base_uri": "https://localhost:8080/",
          "height": 0
        },
        "outputId": "df7b0ccc-7640-4ebf-b0b9-47730ece92d9"
      },
      "execution_count": 1,
      "outputs": [
        {
          "output_type": "stream",
          "name": "stdout",
          "text": [
            "Collecting portalocker\n",
            "  Downloading portalocker-2.8.2-py3-none-any.whl (17 kB)\n",
            "Installing collected packages: portalocker\n",
            "Successfully installed portalocker-2.8.2\n"
          ]
        }
      ]
    },
    {
      "cell_type": "markdown",
      "source": [],
      "metadata": {
        "id": "oQc3DOCJVXjg"
      }
    },
    {
      "cell_type": "markdown",
      "source": [
        "Una vez esta todo listo, se puede proceder a cargar el dataset. Este tiene por nombre WikiText2 y es una versión superior de WikiText103 que comprende una determinada cantidad de articulos publicados en Wikipedia. Estos articulos fueron clasificados como verosimiles y se mantuvieron tal cual fueron publicados, es decir, contienen todos y cada uno de los numeros y caractéres, con y sin signos de puntuación existentes, así como algunos Kanjis y letras de idiomas diferentes al inglés.\n",
        "\n",
        "La documentación oficial del dataset se puede hallar en el siguiente link:\n",
        "\n",
        "[The WikiText Long Term Dependency Language Modeling Dataset](https://blog.salesforceairesearch.com/the-wikitext-long-term-dependency-language-modeling-dataset/)\n",
        "\n",
        "Por si solo, el dataset en torchtext ya se encuentra dividido en entrenamiento, validación y prueba, por lo que no será nevcesario dividirlo."
      ],
      "metadata": {
        "id": "RvYPBrbnT_U6"
      }
    },
    {
      "cell_type": "code",
      "source": [
        "train_dataset, valid_dataset, test_dataset = torchtext.datasets.WikiText2()"
      ],
      "metadata": {
        "id": "jUV5Yukdxb_7"
      },
      "execution_count": 4,
      "outputs": []
    },
    {
      "cell_type": "markdown",
      "source": [
        "Debido a que se carga como un objeto de Torchtext, es necesario iterar sobre el objeto para definir una nueva variable como un conjunto de los caractéres contenidos dentro de los subsets."
      ],
      "metadata": {
        "id": "sfxukm-6Wa0I"
      }
    },
    {
      "cell_type": "code",
      "source": [
        "X_train_text = [text for text in train_dataset] #Iteramos sobre los subsets\n",
        "X_val_text = [text for text in valid_dataset]\n",
        "X_test_text  = [text for text in test_dataset]\n",
        "\n",
        "\n",
        "print('Longitud de entrenamiento:', len(X_train_text))\n",
        "print('Longitud de validacion:', len(X_val_text))\n",
        "print('Longitud de prueba:', len(X_test_text))"
      ],
      "metadata": {
        "id": "e-pk-_K_xQVH",
        "colab": {
          "base_uri": "https://localhost:8080/",
          "height": 0
        },
        "outputId": "3c37c8ab-5110-4813-e31f-646b968c4a6d"
      },
      "execution_count": 5,
      "outputs": [
        {
          "output_type": "stream",
          "name": "stdout",
          "text": [
            "Longitud de entrenamiento: 36718\n",
            "Longitud de validacion: 3760\n",
            "Longitud de prueba: 4358\n"
          ]
        }
      ]
    },
    {
      "cell_type": "markdown",
      "source": [
        "Notamos que estan aproximadamente divididos 80-10-10"
      ],
      "metadata": {
        "id": "gieKP-jNXdQM"
      }
    },
    {
      "cell_type": "markdown",
      "source": [
        "Una vez tenemos los subsets preparados, es necesario tokenizar los caracteres. En el proceso de tokenización, convertimos cada caracter a un token unico (por lo que se le puede asignar un indice), formando un vocabulario basado en caracteres en lugar de palabras (como comunmente puede suceder en ciertos casos).\n",
        "\n",
        "Primero importamos la función de tokenización"
      ],
      "metadata": {
        "id": "qZmQsn49Y7Y1"
      }
    },
    {
      "cell_type": "code",
      "source": [
        "tokenizer = Tokenizer(char_level=True)\n"
      ],
      "metadata": {
        "id": "75LN1K2PxXAd"
      },
      "execution_count": 6,
      "outputs": []
    },
    {
      "cell_type": "markdown",
      "source": [
        "Formamos nuestro vocabulario a partir del subset de entrenamiento, naturalmente, ya quese debería de contener todos los caracteres necesarios para la validación y prueba si consideramos su tamaño."
      ],
      "metadata": {
        "id": "8a7O9oe-aBqu"
      }
    },
    {
      "cell_type": "code",
      "source": [
        "tokenizer.fit_on_texts(X_train_text)"
      ],
      "metadata": {
        "id": "gT2Pk-ckaVj2"
      },
      "execution_count": 7,
      "outputs": []
    },
    {
      "cell_type": "markdown",
      "source": [
        "Ahora podemos mostrar nuestro vocabulario y los indices que se le asignó a cada uno de los caracteres."
      ],
      "metadata": {
        "id": "_9yoCbGFaYvH"
      }
    },
    {
      "cell_type": "code",
      "source": [
        "#Podemos asignar\n",
        "word_index = tokenizer.word_index\n",
        "\n",
        "# Convertir el diccionario a una lista de tuplas (palabra, índice)\n",
        "word_index_list = [(word, index) for word, index in word_index.items()]\n",
        "\n",
        "# Crear un DataFrame a partir de la lista de tuplas\n",
        "df = pd.DataFrame(word_index_list, columns=['Word', 'Index'])\n",
        "\n",
        "# Mostrar el DataFrame\n",
        "df"
      ],
      "metadata": {
        "id": "g566mlh6xZaz",
        "colab": {
          "base_uri": "https://localhost:8080/",
          "height": 423
        },
        "outputId": "2c75083d-7daa-4be3-c076-cc47de8ddea9"
      },
      "execution_count": 8,
      "outputs": [
        {
          "output_type": "execute_result",
          "data": {
            "text/plain": [
              "    Word  Index\n",
              "0             1\n",
              "1      e      2\n",
              "2      t      3\n",
              "3      a      4\n",
              "4      n      5\n",
              "..   ...    ...\n",
              "238    ს    239\n",
              "239    ძ    240\n",
              "240    წ    241\n",
              "241    გ    242\n",
              "242    ც    243\n",
              "\n",
              "[243 rows x 2 columns]"
            ],
            "text/html": [
              "\n",
              "  <div id=\"df-81fc175c-227a-4a87-b9a4-55b9e53d066e\" class=\"colab-df-container\">\n",
              "    <div>\n",
              "<style scoped>\n",
              "    .dataframe tbody tr th:only-of-type {\n",
              "        vertical-align: middle;\n",
              "    }\n",
              "\n",
              "    .dataframe tbody tr th {\n",
              "        vertical-align: top;\n",
              "    }\n",
              "\n",
              "    .dataframe thead th {\n",
              "        text-align: right;\n",
              "    }\n",
              "</style>\n",
              "<table border=\"1\" class=\"dataframe\">\n",
              "  <thead>\n",
              "    <tr style=\"text-align: right;\">\n",
              "      <th></th>\n",
              "      <th>Word</th>\n",
              "      <th>Index</th>\n",
              "    </tr>\n",
              "  </thead>\n",
              "  <tbody>\n",
              "    <tr>\n",
              "      <th>0</th>\n",
              "      <td></td>\n",
              "      <td>1</td>\n",
              "    </tr>\n",
              "    <tr>\n",
              "      <th>1</th>\n",
              "      <td>e</td>\n",
              "      <td>2</td>\n",
              "    </tr>\n",
              "    <tr>\n",
              "      <th>2</th>\n",
              "      <td>t</td>\n",
              "      <td>3</td>\n",
              "    </tr>\n",
              "    <tr>\n",
              "      <th>3</th>\n",
              "      <td>a</td>\n",
              "      <td>4</td>\n",
              "    </tr>\n",
              "    <tr>\n",
              "      <th>4</th>\n",
              "      <td>n</td>\n",
              "      <td>5</td>\n",
              "    </tr>\n",
              "    <tr>\n",
              "      <th>...</th>\n",
              "      <td>...</td>\n",
              "      <td>...</td>\n",
              "    </tr>\n",
              "    <tr>\n",
              "      <th>238</th>\n",
              "      <td>ს</td>\n",
              "      <td>239</td>\n",
              "    </tr>\n",
              "    <tr>\n",
              "      <th>239</th>\n",
              "      <td>ძ</td>\n",
              "      <td>240</td>\n",
              "    </tr>\n",
              "    <tr>\n",
              "      <th>240</th>\n",
              "      <td>წ</td>\n",
              "      <td>241</td>\n",
              "    </tr>\n",
              "    <tr>\n",
              "      <th>241</th>\n",
              "      <td>გ</td>\n",
              "      <td>242</td>\n",
              "    </tr>\n",
              "    <tr>\n",
              "      <th>242</th>\n",
              "      <td>ც</td>\n",
              "      <td>243</td>\n",
              "    </tr>\n",
              "  </tbody>\n",
              "</table>\n",
              "<p>243 rows × 2 columns</p>\n",
              "</div>\n",
              "    <div class=\"colab-df-buttons\">\n",
              "\n",
              "  <div class=\"colab-df-container\">\n",
              "    <button class=\"colab-df-convert\" onclick=\"convertToInteractive('df-81fc175c-227a-4a87-b9a4-55b9e53d066e')\"\n",
              "            title=\"Convert this dataframe to an interactive table.\"\n",
              "            style=\"display:none;\">\n",
              "\n",
              "  <svg xmlns=\"http://www.w3.org/2000/svg\" height=\"24px\" viewBox=\"0 -960 960 960\">\n",
              "    <path d=\"M120-120v-720h720v720H120Zm60-500h600v-160H180v160Zm220 220h160v-160H400v160Zm0 220h160v-160H400v160ZM180-400h160v-160H180v160Zm440 0h160v-160H620v160ZM180-180h160v-160H180v160Zm440 0h160v-160H620v160Z\"/>\n",
              "  </svg>\n",
              "    </button>\n",
              "\n",
              "  <style>\n",
              "    .colab-df-container {\n",
              "      display:flex;\n",
              "      gap: 12px;\n",
              "    }\n",
              "\n",
              "    .colab-df-convert {\n",
              "      background-color: #E8F0FE;\n",
              "      border: none;\n",
              "      border-radius: 50%;\n",
              "      cursor: pointer;\n",
              "      display: none;\n",
              "      fill: #1967D2;\n",
              "      height: 32px;\n",
              "      padding: 0 0 0 0;\n",
              "      width: 32px;\n",
              "    }\n",
              "\n",
              "    .colab-df-convert:hover {\n",
              "      background-color: #E2EBFA;\n",
              "      box-shadow: 0px 1px 2px rgba(60, 64, 67, 0.3), 0px 1px 3px 1px rgba(60, 64, 67, 0.15);\n",
              "      fill: #174EA6;\n",
              "    }\n",
              "\n",
              "    .colab-df-buttons div {\n",
              "      margin-bottom: 4px;\n",
              "    }\n",
              "\n",
              "    [theme=dark] .colab-df-convert {\n",
              "      background-color: #3B4455;\n",
              "      fill: #D2E3FC;\n",
              "    }\n",
              "\n",
              "    [theme=dark] .colab-df-convert:hover {\n",
              "      background-color: #434B5C;\n",
              "      box-shadow: 0px 1px 3px 1px rgba(0, 0, 0, 0.15);\n",
              "      filter: drop-shadow(0px 1px 2px rgba(0, 0, 0, 0.3));\n",
              "      fill: #FFFFFF;\n",
              "    }\n",
              "  </style>\n",
              "\n",
              "    <script>\n",
              "      const buttonEl =\n",
              "        document.querySelector('#df-81fc175c-227a-4a87-b9a4-55b9e53d066e button.colab-df-convert');\n",
              "      buttonEl.style.display =\n",
              "        google.colab.kernel.accessAllowed ? 'block' : 'none';\n",
              "\n",
              "      async function convertToInteractive(key) {\n",
              "        const element = document.querySelector('#df-81fc175c-227a-4a87-b9a4-55b9e53d066e');\n",
              "        const dataTable =\n",
              "          await google.colab.kernel.invokeFunction('convertToInteractive',\n",
              "                                                    [key], {});\n",
              "        if (!dataTable) return;\n",
              "\n",
              "        const docLinkHtml = 'Like what you see? Visit the ' +\n",
              "          '<a target=\"_blank\" href=https://colab.research.google.com/notebooks/data_table.ipynb>data table notebook</a>'\n",
              "          + ' to learn more about interactive tables.';\n",
              "        element.innerHTML = '';\n",
              "        dataTable['output_type'] = 'display_data';\n",
              "        await google.colab.output.renderOutput(dataTable, element);\n",
              "        const docLink = document.createElement('div');\n",
              "        docLink.innerHTML = docLinkHtml;\n",
              "        element.appendChild(docLink);\n",
              "      }\n",
              "    </script>\n",
              "  </div>\n",
              "\n",
              "\n",
              "<div id=\"df-b10c14d2-88dd-4cd7-96f2-f54be734d1f4\">\n",
              "  <button class=\"colab-df-quickchart\" onclick=\"quickchart('df-b10c14d2-88dd-4cd7-96f2-f54be734d1f4')\"\n",
              "            title=\"Suggest charts\"\n",
              "            style=\"display:none;\">\n",
              "\n",
              "<svg xmlns=\"http://www.w3.org/2000/svg\" height=\"24px\"viewBox=\"0 0 24 24\"\n",
              "     width=\"24px\">\n",
              "    <g>\n",
              "        <path d=\"M19 3H5c-1.1 0-2 .9-2 2v14c0 1.1.9 2 2 2h14c1.1 0 2-.9 2-2V5c0-1.1-.9-2-2-2zM9 17H7v-7h2v7zm4 0h-2V7h2v10zm4 0h-2v-4h2v4z\"/>\n",
              "    </g>\n",
              "</svg>\n",
              "  </button>\n",
              "\n",
              "<style>\n",
              "  .colab-df-quickchart {\n",
              "      --bg-color: #E8F0FE;\n",
              "      --fill-color: #1967D2;\n",
              "      --hover-bg-color: #E2EBFA;\n",
              "      --hover-fill-color: #174EA6;\n",
              "      --disabled-fill-color: #AAA;\n",
              "      --disabled-bg-color: #DDD;\n",
              "  }\n",
              "\n",
              "  [theme=dark] .colab-df-quickchart {\n",
              "      --bg-color: #3B4455;\n",
              "      --fill-color: #D2E3FC;\n",
              "      --hover-bg-color: #434B5C;\n",
              "      --hover-fill-color: #FFFFFF;\n",
              "      --disabled-bg-color: #3B4455;\n",
              "      --disabled-fill-color: #666;\n",
              "  }\n",
              "\n",
              "  .colab-df-quickchart {\n",
              "    background-color: var(--bg-color);\n",
              "    border: none;\n",
              "    border-radius: 50%;\n",
              "    cursor: pointer;\n",
              "    display: none;\n",
              "    fill: var(--fill-color);\n",
              "    height: 32px;\n",
              "    padding: 0;\n",
              "    width: 32px;\n",
              "  }\n",
              "\n",
              "  .colab-df-quickchart:hover {\n",
              "    background-color: var(--hover-bg-color);\n",
              "    box-shadow: 0 1px 2px rgba(60, 64, 67, 0.3), 0 1px 3px 1px rgba(60, 64, 67, 0.15);\n",
              "    fill: var(--button-hover-fill-color);\n",
              "  }\n",
              "\n",
              "  .colab-df-quickchart-complete:disabled,\n",
              "  .colab-df-quickchart-complete:disabled:hover {\n",
              "    background-color: var(--disabled-bg-color);\n",
              "    fill: var(--disabled-fill-color);\n",
              "    box-shadow: none;\n",
              "  }\n",
              "\n",
              "  .colab-df-spinner {\n",
              "    border: 2px solid var(--fill-color);\n",
              "    border-color: transparent;\n",
              "    border-bottom-color: var(--fill-color);\n",
              "    animation:\n",
              "      spin 1s steps(1) infinite;\n",
              "  }\n",
              "\n",
              "  @keyframes spin {\n",
              "    0% {\n",
              "      border-color: transparent;\n",
              "      border-bottom-color: var(--fill-color);\n",
              "      border-left-color: var(--fill-color);\n",
              "    }\n",
              "    20% {\n",
              "      border-color: transparent;\n",
              "      border-left-color: var(--fill-color);\n",
              "      border-top-color: var(--fill-color);\n",
              "    }\n",
              "    30% {\n",
              "      border-color: transparent;\n",
              "      border-left-color: var(--fill-color);\n",
              "      border-top-color: var(--fill-color);\n",
              "      border-right-color: var(--fill-color);\n",
              "    }\n",
              "    40% {\n",
              "      border-color: transparent;\n",
              "      border-right-color: var(--fill-color);\n",
              "      border-top-color: var(--fill-color);\n",
              "    }\n",
              "    60% {\n",
              "      border-color: transparent;\n",
              "      border-right-color: var(--fill-color);\n",
              "    }\n",
              "    80% {\n",
              "      border-color: transparent;\n",
              "      border-right-color: var(--fill-color);\n",
              "      border-bottom-color: var(--fill-color);\n",
              "    }\n",
              "    90% {\n",
              "      border-color: transparent;\n",
              "      border-bottom-color: var(--fill-color);\n",
              "    }\n",
              "  }\n",
              "</style>\n",
              "\n",
              "  <script>\n",
              "    async function quickchart(key) {\n",
              "      const quickchartButtonEl =\n",
              "        document.querySelector('#' + key + ' button');\n",
              "      quickchartButtonEl.disabled = true;  // To prevent multiple clicks.\n",
              "      quickchartButtonEl.classList.add('colab-df-spinner');\n",
              "      try {\n",
              "        const charts = await google.colab.kernel.invokeFunction(\n",
              "            'suggestCharts', [key], {});\n",
              "      } catch (error) {\n",
              "        console.error('Error during call to suggestCharts:', error);\n",
              "      }\n",
              "      quickchartButtonEl.classList.remove('colab-df-spinner');\n",
              "      quickchartButtonEl.classList.add('colab-df-quickchart-complete');\n",
              "    }\n",
              "    (() => {\n",
              "      let quickchartButtonEl =\n",
              "        document.querySelector('#df-b10c14d2-88dd-4cd7-96f2-f54be734d1f4 button');\n",
              "      quickchartButtonEl.style.display =\n",
              "        google.colab.kernel.accessAllowed ? 'block' : 'none';\n",
              "    })();\n",
              "  </script>\n",
              "</div>\n",
              "    </div>\n",
              "  </div>\n"
            ]
          },
          "metadata": {},
          "execution_count": 8
        }
      ]
    },
    {
      "cell_type": "markdown",
      "source": [
        "Ahora que tenemos nuestro vocabulario, podemos transformar nuestro subconjutno de entrenamiento para que el modelo sea capaz de entenderlo.\n",
        "\n",
        "Basicamente, separamos en la entrada y la salida del modelo, para ello, definimos un tamaño de secuencia de entrada, que en este caso es de 100. Posteriormente, iteramos a través de los primeros 6000 caracteres para crear un tensor de secuencias que corresponden a todas las que se encuentran en esos primeros ejemplos (1-100, 2-101, ... 5901-600). Simultaneamennte, se define el caracter inmediato siguiente a la secuencia como la salida del modelo.\n",
        "\n",
        "Todos los caracteres de las entradas y salidas se convierten a minusculas y se tokenizan para que puedan funcionar como entrada."
      ],
      "metadata": {
        "id": "FLswPApWfPgx"
      }
    },
    {
      "cell_type": "code",
      "source": [
        "seq_length = 100 # Tamaño de la secuencia\n",
        "X_train, Y_train = [], []\n",
        "\n",
        "for text in X_train_text[:6000]: #Numero de ejemplos a usar\n",
        "    for i in range(0, len(text)-seq_length):\n",
        "        inp_seq = text[i:i+seq_length].lower()\n",
        "        out_seq = text[i+seq_length].lower()\n",
        "        X_train.append(inp_seq)\n",
        "        Y_train.append(tokenizer.word_index[out_seq]) ## Retrieve index for characters from vocabulary\n",
        "\n",
        "X_train = tokenizer.texts_to_sequences(X_train) ## Retrieve index for characters from vocabulary\n",
        "\n",
        "X_train, Y_train = np.array(X_train, dtype=np.int32).reshape(-1, seq_length,1), np.array(Y_train)\n",
        "\n",
        "X_train.shape, Y_train.shape"
      ],
      "metadata": {
        "id": "l_Umo2gvxj4z",
        "colab": {
          "base_uri": "https://localhost:8080/",
          "height": 0
        },
        "outputId": "2e13d171-1e36-4e2c-c63c-11051e948708"
      },
      "execution_count": 9,
      "outputs": [
        {
          "output_type": "execute_result",
          "data": {
            "text/plain": [
              "((1377719, 100, 1), (1377719,))"
            ]
          },
          "metadata": {},
          "execution_count": 9
        }
      ]
    },
    {
      "cell_type": "markdown",
      "source": [
        "Hacemos lo mismo para el de prueba pero soolo los primeros 200:"
      ],
      "metadata": {
        "id": "Q4-zp4bEriNM"
      }
    },
    {
      "cell_type": "code",
      "source": [
        "seq_length = 100 # Tamaño de la secuencia\n",
        "X_test, Y_test = [], []\n",
        "\n",
        "for text in X_test_text[:200]: #Numero de ejemplos a usar\n",
        "    for i in range(0, len(text)-seq_length):\n",
        "        inp_seq = text[i:i+seq_length].lower()\n",
        "        out_seq = text[i+seq_length].lower()\n",
        "        X_test.append(inp_seq)\n",
        "        Y_test.append(tokenizer.word_index[out_seq]) ## Retrieve index for characters from vocabulary\n",
        "\n",
        "X_test = tokenizer.texts_to_sequences(X_test) ## Retrieve index for characters from vocabulary\n",
        "\n",
        "X_test, Y_test = np.array(X_test, dtype=np.int32).reshape(-1, seq_length,1), np.array(Y_test)\n",
        "\n",
        "X_test.shape, Y_test.shape"
      ],
      "metadata": {
        "colab": {
          "base_uri": "https://localhost:8080/",
          "height": 0
        },
        "id": "3LC8qWcfrUuC",
        "outputId": "2a7b0a2e-7ffa-4ee5-e81e-6f13bd8ebc49"
      },
      "execution_count": 10,
      "outputs": [
        {
          "output_type": "execute_result",
          "data": {
            "text/plain": [
              "((42351, 100, 1), (42351,))"
            ]
          },
          "metadata": {},
          "execution_count": 10
        }
      ]
    },
    {
      "cell_type": "markdown",
      "source": [
        "## Primero modelo: Entrenamiento 1"
      ],
      "metadata": {
        "id": "n8JFckDhstlQ"
      }
    },
    {
      "cell_type": "markdown",
      "source": [
        "Ahora que tenemos nuestras entradas y salidas del modelo durante el entrenamiento, podemos definir la arquitectura del modelo, el cual es una RNN con 3 capas:\n",
        "\n",
        "- Primera capa: Long-Short Term Memory con entrada de 100,1 y salida de 256\n",
        "- Segunda capa: Long-Short Term Memory con entrada y salida igual a la salida de la anterior.\n",
        "- Tercera y ultima capa: Densa correspondiente a la salida y de tamaño igual al tamaño del vocabulario más uno.\n",
        "\n"
      ],
      "metadata": {
        "id": "9EGRd-2Bkdqx"
      }
    },
    {
      "cell_type": "code",
      "source": [
        "lstm_out = 256\n",
        "\n",
        "model = Sequential([\n",
        "                    LSTM(lstm_out, input_shape=(seq_length, 1), return_sequences=True),\n",
        "                    LSTM(lstm_out),\n",
        "                    Dense(len(tokenizer.word_index)+1, activation=\"softmax\")\n",
        "                ])\n",
        "\n",
        "\n",
        "model.summary()"
      ],
      "metadata": {
        "id": "W1KZthkixnHz",
        "colab": {
          "base_uri": "https://localhost:8080/"
        },
        "outputId": "7f51b0c1-5bdc-48e9-e008-3065f9ec3064"
      },
      "execution_count": null,
      "outputs": [
        {
          "output_type": "stream",
          "name": "stdout",
          "text": [
            "Model: \"sequential\"\n",
            "_________________________________________________________________\n",
            " Layer (type)                Output Shape              Param #   \n",
            "=================================================================\n",
            " lstm (LSTM)                 (None, 100, 256)          264192    \n",
            "                                                                 \n",
            " lstm_1 (LSTM)               (None, 256)               525312    \n",
            "                                                                 \n",
            " dense (Dense)               (None, 244)               62708     \n",
            "                                                                 \n",
            "=================================================================\n",
            "Total params: 852212 (3.25 MB)\n",
            "Trainable params: 852212 (3.25 MB)\n",
            "Non-trainable params: 0 (0.00 Byte)\n",
            "_________________________________________________________________\n"
          ]
        }
      ]
    },
    {
      "cell_type": "markdown",
      "source": [
        "Una vez definida la arquitectura definimos el optimizador, el learning rate y la función de perdida:\n",
        "\n",
        "- Optimizador: Adam\n",
        "- Learning rate: 0.001\n",
        "- Funcion de perdida: Entropía cruzada categorica\n",
        "\n",
        "Notamos que se trata de un learning rate un poco alto, debido a que se pretende que el logré encontrar un buen minimo dentro de las primeras epocas."
      ],
      "metadata": {
        "id": "q_2JGicIo7QJ"
      }
    },
    {
      "cell_type": "code",
      "source": [
        "model.compile(optimizer=Adam(learning_rate=0.001), loss=\"sparse_categorical_crossentropy\")"
      ],
      "metadata": {
        "id": "dD3v-08cxxIK"
      },
      "execution_count": null,
      "outputs": []
    },
    {
      "cell_type": "markdown",
      "source": [
        "Ahora entrenamos al modelo por 50 epocas y un batch size de 1024."
      ],
      "metadata": {
        "id": "BAG58ZBYpV8x"
      }
    },
    {
      "cell_type": "code",
      "source": [
        "if False:\n",
        "  history = model.fit(X_train, Y_train, batch_size=1024, epochs=50, verbose=1)"
      ],
      "metadata": {
        "id": "k2c1WRh1x5Yl"
      },
      "execution_count": null,
      "outputs": []
    },
    {
      "cell_type": "markdown",
      "source": [
        "Una vez entrenado, guardamos el modelo, así como el historial de entrenamiento para analizar el desarrollo."
      ],
      "metadata": {
        "id": "XkP6v9nFqA-4"
      }
    },
    {
      "cell_type": "code",
      "source": [
        "if False:\n",
        "  model.save('model.h5')\n",
        "\n",
        "  with open('history.pkl', 'wb') as file:\n",
        "      pickle.dump(history.history, file)"
      ],
      "metadata": {
        "id": "3QlyvMs5fwxn"
      },
      "execution_count": null,
      "outputs": []
    },
    {
      "cell_type": "markdown",
      "source": [
        "Mostramos la perdida durante el entrenamiento"
      ],
      "metadata": {
        "id": "auzDuAQnzgk8"
      }
    },
    {
      "cell_type": "code",
      "source": [
        "# Cargar el archivo history.pkl\n",
        "with open('history.pkl', 'rb') as file:\n",
        "    history = pickle.load(file)\n",
        "\n",
        "# Obtener la pérdida del conjunto de entrenamiento\n",
        "loss = history['loss']\n",
        "\n",
        "# Graficar la pérdida del conjunto de entrenamiento\n",
        "plt.figure(figsize=(8, 6))\n",
        "plt.plot(loss, label='Perdida durante entrenamiento')\n",
        "plt.title('Perdida: Modelo 1 y entrenamiento 1')\n",
        "plt.xlabel('Epocas')\n",
        "plt.ylabel('Perdida')\n",
        "plt.legend()\n",
        "plt.grid(True)\n",
        "plt.show()"
      ],
      "metadata": {
        "colab": {
          "base_uri": "https://localhost:8080/",
          "height": 564
        },
        "id": "WkLo6SzKzVgZ",
        "outputId": "683a4ed6-da0a-48df-db5c-0db4162807e0"
      },
      "execution_count": 21,
      "outputs": [
        {
          "output_type": "display_data",
          "data": {
            "text/plain": [
              "<Figure size 800x600 with 1 Axes>"
            ],
            "image/png": "[encoded data removed]"
          },
          "metadata": {}
        }
      ]
    },
    {
      "cell_type": "markdown",
      "source": [
        "Observamos un buen entrenamiento, con la perdida disminuyendo adecuadamente y tratando de converger en un punto minimo local.\n",
        "\n",
        "Naturalmente, se esperaría que existiera tambien la precisión y los resultados del conjunto de validación, pero debido a problemas al cargar el modelo durante el entrenamiento (falta de recursos), esto no fue posible."
      ],
      "metadata": {
        "id": "UnmiiesgznfZ"
      }
    },
    {
      "cell_type": "markdown",
      "source": [
        "Ahora cargamos el modelo para poder realizar predicciones"
      ],
      "metadata": {
        "id": "7q8q3-8rqZ7Z"
      }
    },
    {
      "cell_type": "code",
      "source": [
        "model = load_model('model.h5')"
      ],
      "metadata": {
        "id": "WpS0v7d1mfbA"
      },
      "execution_count": 13,
      "outputs": []
    },
    {
      "cell_type": "markdown",
      "source": [
        "Para realizar predicciones, definimos un tamaño de secuencia posterior al primer caracter a predecir para que generé una cantidad definida de texto (en este caso 100). Se establece un indice aleatorio y se predice a partir de ahí. A diferencia del codigo original, aqui se utiliza el conjunto de prueba para predecir y se agrega un parametro importante: Temperatura. Al ajustar la temperatura, se modifica la distribución de probabilidad sobre las predicciones del modelo antes de seleccionar el siguiente carácter en la secuencia generada.\n",
        "\n",
        "En otras palabras, se podría considerar que se define que tanta exploración realiza el modelo antes de predicción, siendo secuencias más predecibles (y por lo tanto logicas) a más baja temperatura. Se utilizarón 4 diferentes temperaturas para observar el efecto en la generación de texto.\n",
        "\n",
        "Para evaluar el desempeño del modelo, naturalmente, habría que quizá definir las diferencias caracter a caracter de los generados, sin embargo, se complica debido a la cantidad de texto y las clases, así como el aún poco y ligero (debido al learning rate) entrenamiento. Por ello, se evaluará en función de que tan vago es el texto producido en comparación del original.\n",
        "\n"
      ],
      "metadata": {
        "id": "C9hptUGvv1v7"
      }
    },
    {
      "cell_type": "code",
      "source": [
        "random.seed(123)\n",
        "idx = random.randint(0, len(X_test))\n",
        "pattern = X_test[idx].flatten().tolist()\n",
        "real_sequence = Y_test[idx:idx+100].flatten().tolist()\n",
        "\n",
        "print(\"Initial Pattern : {}\".format(\"\".join([tokenizer.index_word[idx] for idx in pattern])))\n",
        "print(\"Real Sequence : {}\".format(\"\".join([tokenizer.index_word[idx] for idx in real_sequence])))\n",
        "\n",
        "\n",
        "temperatures = [0.2, 0.5, 1.0, 1.5]  # Lista de diferentes valores de temperatura\n",
        "\n",
        "for temp in temperatures:\n",
        "    print(f\"\\n--- Generated Text (Temperature: {temp}) ---\")\n",
        "    generated_text = []\n",
        "    for i in range(100):\n",
        "        X_batch = np.array(pattern, dtype=np.int32).reshape(1, seq_length, 1)\n",
        "        preds = model.predict(X_batch, verbose=0)\n",
        "\n",
        "        # Aplicar temperatura a las predicciones antes de muestrear el índice\n",
        "        preds = np.asarray(preds).astype('float64')\n",
        "        preds = np.log(preds) / temp\n",
        "        exp_preds = np.exp(preds)\n",
        "        preds = exp_preds / np.sum(exp_preds)\n",
        "\n",
        "        # Muestreo de acuerdo a las probabilidades ajustadas por temperatura\n",
        "        predicted_index = np.random.choice(len(preds[0]), p=preds[0])\n",
        "\n",
        "        generated_text.append(predicted_index)\n",
        "        pattern.append(predicted_index)\n",
        "        pattern = pattern[1:]\n",
        "\n",
        "    print(\"\".join([tokenizer.index_word[idx] for idx in generated_text]))"
      ],
      "metadata": {
        "id": "W_RwbLHxyAOS",
        "colab": {
          "base_uri": "https://localhost:8080/",
          "height": 0
        },
        "outputId": "29f58000-0ca9-4bf3-eceb-5322660f0041"
      },
      "execution_count": 16,
      "outputs": [
        {
          "output_type": "stream",
          "name": "stdout",
          "text": [
            "Initial Pattern : f how to curse directed by <unk> <unk> . how to curse was performed at bush theatre in the london bo\n",
            "Real Sequence : rough of <unk> and fulham . in a review of the production for the daily telegraph , theatre critic c\n",
            "\n",
            "--- Generated Text (Temperature: 0.2) ---\n"
          ]
        },
        {
          "output_type": "stream",
          "name": "stderr",
          "text": [
            "<ipython-input-16-56e445f52def>:21: RuntimeWarning: divide by zero encountered in log\n",
            "  preds = np.log(preds) / temp\n"
          ]
        },
        {
          "output_type": "stream",
          "name": "stdout",
          "text": [
            "ok . after the state of the story of the second production of the command of the command of the firs\n",
            "\n",
            "--- Generated Text (Temperature: 0.5) ---\n",
            "t appearances . \n",
            "875 , and shortly after the provide state to produce of the female had been commiss\n",
            "\n",
            "--- Generated Text (Temperature: 1.0) ---\n",
            "ion , which began in peace . however well \" we k earlier fouuow \" these stuame , a perhon in things \n",
            "\n",
            "--- Generated Text (Temperature: 1.5) ---\n",
            "bouls ' that <unk> was cullen j <unk> prankwahsed lungo , ep timb agpllar . \n",
            "961 . i complesyuog wob\n"
          ]
        }
      ]
    },
    {
      "cell_type": "markdown",
      "source": [
        "Notamos que las primeras dos temperaturas contienen dentro de lo que cabe, secuencias de texto un tanto más logicas y que incluso, llegan a coincidir en cierto punto con la secuencia real. Por otro lado, notamos que las ultimas dos resultan un tanto más alucinantes e incluso irreales."
      ],
      "metadata": {
        "id": "sI_yBdaYxuM_"
      }
    },
    {
      "cell_type": "markdown",
      "source": [
        "## Primero modelo: Entrenamiento 2"
      ],
      "metadata": {
        "id": "YCvvnT3HydgS"
      }
    },
    {
      "cell_type": "markdown",
      "source": [
        "Los primeros resultados, no muestran algo muy conciso por lo que se entrenerá durante al menos otras 50 epocas, pero en este caso, con un learning rate de 0.0003 con el fin de no subajustar al modelo y dirigirlo hacia un mejor desempeño."
      ],
      "metadata": {
        "id": "8e2X-IbRyfCS"
      }
    },
    {
      "cell_type": "code",
      "source": [
        "if False:\n",
        "  K.set_value(model.optimizer.learning_rate, 0.0003)\n",
        "\n",
        "  history2 = model.fit(X_train, Y_train, batch_size=1024, epochs=50, verbose=1)"
      ],
      "metadata": {
        "id": "20Iaez7zyCs7",
        "colab": {
          "base_uri": "https://localhost:8080/"
        },
        "outputId": "cb2accd8-3d26-42dd-f509-8dce9d3552d5"
      },
      "execution_count": null,
      "outputs": [
        {
          "output_type": "stream",
          "name": "stdout",
          "text": [
            "Epoch 1/50\n",
            "1346/1346 [==============================] - 236s 170ms/step - loss: 1.2218\n",
            "Epoch 2/50\n",
            "1346/1346 [==============================] - 242s 180ms/step - loss: 1.2191\n",
            "Epoch 3/50\n",
            "1346/1346 [==============================] - 245s 182ms/step - loss: 1.2175\n",
            "Epoch 4/50\n",
            "1346/1346 [==============================] - 245s 182ms/step - loss: 1.2160\n",
            "Epoch 5/50\n",
            "1346/1346 [==============================] - 245s 182ms/step - loss: 1.2148\n",
            "Epoch 6/50\n",
            "1346/1346 [==============================] - 245s 182ms/step - loss: 1.2133\n",
            "Epoch 7/50\n",
            "1346/1346 [==============================] - 245s 182ms/step - loss: 1.2121\n",
            "Epoch 8/50\n",
            "1346/1346 [==============================] - 245s 182ms/step - loss: 1.2106\n",
            "Epoch 9/50\n",
            "1346/1346 [==============================] - 247s 184ms/step - loss: 1.2093\n",
            "Epoch 10/50\n",
            "1346/1346 [==============================] - 248s 184ms/step - loss: 1.2083\n",
            "Epoch 11/50\n",
            "1346/1346 [==============================] - 248s 184ms/step - loss: 1.2070\n",
            "Epoch 12/50\n",
            "1346/1346 [==============================] - 248s 184ms/step - loss: 1.2059\n",
            "Epoch 13/50\n",
            "1346/1346 [==============================] - 248s 184ms/step - loss: 1.2049\n",
            "Epoch 14/50\n",
            "1346/1346 [==============================] - 248s 184ms/step - loss: 1.2036\n",
            "Epoch 15/50\n",
            "1346/1346 [==============================] - 248s 184ms/step - loss: 1.2024\n",
            "Epoch 16/50\n",
            "1346/1346 [==============================] - 249s 185ms/step - loss: 1.2015\n",
            "Epoch 17/50\n",
            "1346/1346 [==============================] - 248s 184ms/step - loss: 1.2002\n",
            "Epoch 18/50\n",
            "1346/1346 [==============================] - 248s 184ms/step - loss: 1.1990\n",
            "Epoch 19/50\n",
            "1346/1346 [==============================] - 249s 185ms/step - loss: 1.1983\n",
            "Epoch 20/50\n",
            "1346/1346 [==============================] - 249s 185ms/step - loss: 1.1971\n",
            "Epoch 21/50\n",
            "1346/1346 [==============================] - 249s 185ms/step - loss: 1.1961\n",
            "Epoch 22/50\n",
            "1346/1346 [==============================] - 249s 185ms/step - loss: 1.1951\n",
            "Epoch 23/50\n",
            "1346/1346 [==============================] - 249s 185ms/step - loss: 1.1940\n",
            "Epoch 24/50\n",
            "1346/1346 [==============================] - 249s 185ms/step - loss: 1.1929\n",
            "Epoch 25/50\n",
            "1346/1346 [==============================] - 249s 185ms/step - loss: 1.1921\n",
            "Epoch 26/50\n",
            "1346/1346 [==============================] - 249s 185ms/step - loss: 1.1909\n",
            "Epoch 27/50\n",
            "1346/1346 [==============================] - 249s 185ms/step - loss: 1.1901\n",
            "Epoch 28/50\n",
            "1346/1346 [==============================] - 250s 185ms/step - loss: 1.1890\n",
            "Epoch 29/50\n",
            "1346/1346 [==============================] - 250s 186ms/step - loss: 1.1883\n",
            "Epoch 30/50\n",
            "1346/1346 [==============================] - 250s 185ms/step - loss: 1.1871\n",
            "Epoch 31/50\n",
            "1346/1346 [==============================] - 249s 185ms/step - loss: 1.1862\n",
            "Epoch 32/50\n",
            "1346/1346 [==============================] - 250s 185ms/step - loss: 1.1854\n",
            "Epoch 33/50\n",
            "1346/1346 [==============================] - 249s 185ms/step - loss: 1.1844\n",
            "Epoch 34/50\n",
            "1346/1346 [==============================] - 250s 186ms/step - loss: 1.1835\n",
            "Epoch 35/50\n",
            "1346/1346 [==============================] - 250s 186ms/step - loss: 1.1825\n",
            "Epoch 36/50\n",
            "1346/1346 [==============================] - 250s 186ms/step - loss: 1.1817\n",
            "Epoch 37/50\n",
            "1346/1346 [==============================] - 250s 186ms/step - loss: 1.1807\n",
            "Epoch 38/50\n",
            "1346/1346 [==============================] - 250s 186ms/step - loss: 1.1799\n",
            "Epoch 39/50\n",
            "1346/1346 [==============================] - 249s 185ms/step - loss: 1.1789\n",
            "Epoch 40/50\n",
            "1346/1346 [==============================] - 247s 184ms/step - loss: 1.1779\n",
            "Epoch 41/50\n",
            "1346/1346 [==============================] - 247s 183ms/step - loss: 1.1770\n",
            "Epoch 42/50\n",
            "1346/1346 [==============================] - 247s 183ms/step - loss: 1.1763\n",
            "Epoch 43/50\n",
            "1346/1346 [==============================] - 247s 184ms/step - loss: 1.1755\n",
            "Epoch 44/50\n",
            "1346/1346 [==============================] - 247s 184ms/step - loss: 1.1744\n",
            "Epoch 45/50\n",
            "1346/1346 [==============================] - 249s 185ms/step - loss: 1.1737\n",
            "Epoch 46/50\n",
            "1346/1346 [==============================] - 250s 185ms/step - loss: 1.1728\n",
            "Epoch 47/50\n",
            "1346/1346 [==============================] - 250s 185ms/step - loss: 1.1719\n",
            "Epoch 48/50\n",
            "1346/1346 [==============================] - 250s 186ms/step - loss: 1.1711\n",
            "Epoch 49/50\n",
            "1346/1346 [==============================] - 251s 186ms/step - loss: 1.1702\n",
            "Epoch 50/50\n",
            "1346/1346 [==============================] - 250s 186ms/step - loss: 1.1692\n"
          ]
        }
      ]
    },
    {
      "cell_type": "markdown",
      "source": [
        "Similarmente, guardamos el modelo y su historial de entrenamiento"
      ],
      "metadata": {
        "id": "AFEaYLrSy_DA"
      }
    },
    {
      "cell_type": "code",
      "source": [
        "if False:\n",
        "  model.save('model_2\".h5')\n",
        "\n",
        "  with open('history2.pkl', 'wb') as file:\n",
        "      pickle.dump(history2.history, file)"
      ],
      "metadata": {
        "id": "8Nk5ZYZKgLct"
      },
      "execution_count": null,
      "outputs": []
    },
    {
      "cell_type": "markdown",
      "source": [
        "Mostramos el siguiente historial de perdida."
      ],
      "metadata": {
        "id": "vDlM1M5B0q0o"
      }
    },
    {
      "cell_type": "code",
      "source": [
        "# Cargar el archivo history.pkl\n",
        "with open('history2.pkl', 'rb') as file:\n",
        "    history = pickle.load(file)\n",
        "\n",
        "# Obtener la pérdida del conjunto de entrenamiento\n",
        "loss = history['loss']\n",
        "\n",
        "# Graficar la pérdida del conjunto de entrenamiento\n",
        "plt.figure(figsize=(8, 6))\n",
        "plt.plot(loss, label='Perdida durante entrenamiento')\n",
        "plt.title('Perdida: Modelo 1 y entrenamiento 2')\n",
        "plt.xlabel('Epocas')\n",
        "plt.ylabel('Perdida')\n",
        "plt.legend()\n",
        "plt.grid(True)\n",
        "plt.show()"
      ],
      "metadata": {
        "id": "9fwV2u9TontM",
        "colab": {
          "base_uri": "https://localhost:8080/",
          "height": 564
        },
        "outputId": "a8758af5-8812-42a2-c723-35e53e729479"
      },
      "execution_count": 22,
      "outputs": [
        {
          "output_type": "display_data",
          "data": {
            "text/plain": [
              "<Figure size 800x600 with 1 Axes>"
            ],
            "image/png": "[encoded data removed]"
          },
          "metadata": {}
        }
      ]
    },
    {
      "cell_type": "markdown",
      "source": [
        "Notamos que continua bajando, pero esta vez claramente un poco más lento.\n"
      ],
      "metadata": {
        "id": "LuFIkvcF1rpJ"
      }
    },
    {
      "cell_type": "markdown",
      "source": [
        "Cargamos el modelo para realizar predicciones."
      ],
      "metadata": {
        "id": "wAo1HPm814j9"
      }
    },
    {
      "cell_type": "code",
      "source": [
        "model = load_model('model_2.h5')"
      ],
      "metadata": {
        "id": "L-wOKedzoj-K"
      },
      "execution_count": 23,
      "outputs": []
    },
    {
      "cell_type": "code",
      "source": [
        "random.seed(123)\n",
        "idx = random.randint(0, len(X_test))\n",
        "pattern = X_test[idx].flatten().tolist()\n",
        "real_sequence = Y_test[idx:idx+100].flatten().tolist()\n",
        "\n",
        "print(\"Initial Pattern : {}\".format(\"\".join([tokenizer.index_word[idx] for idx in pattern])))\n",
        "print(\"Real Sequence : {}\".format(\"\".join([tokenizer.index_word[idx] for idx in real_sequence])))\n",
        "\n",
        "\n",
        "temperatures = [0.2, 0.5, 1.0, 1.5]  # Lista de diferentes valores de temperatura\n",
        "\n",
        "for temp in temperatures:\n",
        "    print(f\"\\n--- Generated Text (Temperature: {temp}) ---\")\n",
        "    generated_text = []\n",
        "    for i in range(100):\n",
        "        X_batch = np.array(pattern, dtype=np.int32).reshape(1, seq_length, 1)\n",
        "        preds = model.predict(X_batch, verbose=0)\n",
        "\n",
        "        # Aplicar temperatura a las predicciones antes de muestrear el índice\n",
        "        preds = np.asarray(preds).astype('float64')\n",
        "        preds = np.log(preds) / temp\n",
        "        exp_preds = np.exp(preds)\n",
        "        preds = exp_preds / np.sum(exp_preds)\n",
        "\n",
        "        # Muestreo de acuerdo a las probabilidades ajustadas por temperatura\n",
        "        predicted_index = np.random.choice(len(preds[0]), p=preds[0])\n",
        "\n",
        "        generated_text.append(predicted_index)\n",
        "        pattern.append(predicted_index)\n",
        "        pattern = pattern[1:]\n",
        "\n",
        "    print(\"\".join([tokenizer.index_word[idx] for idx in generated_text]))"
      ],
      "metadata": {
        "id": "ZWGJgX4vyIS8",
        "colab": {
          "base_uri": "https://localhost:8080/",
          "height": 0
        },
        "outputId": "8519f226-d16c-4b29-eeb7-c9957cfae23f"
      },
      "execution_count": 25,
      "outputs": [
        {
          "output_type": "stream",
          "name": "stdout",
          "text": [
            "Initial Pattern : f how to curse directed by <unk> <unk> . how to curse was performed at bush theatre in the london bo\n",
            "Real Sequence : rough of <unk> and fulham . in a review of the production for the daily telegraph , theatre critic c\n",
            "\n",
            "--- Generated Text (Temperature: 0.2) ---\n"
          ]
        },
        {
          "output_type": "stream",
          "name": "stderr",
          "text": [
            "<ipython-input-25-56e445f52def>:21: RuntimeWarning: divide by zero encountered in log\n",
            "  preds = np.log(preds) / temp\n"
          ]
        },
        {
          "output_type": "stream",
          "name": "stdout",
          "text": [
            "ard of the second community of the south of the production of the season . the second time , and the\n",
            "\n",
            "--- Generated Text (Temperature: 0.5) ---\n",
            " interviewing was said that the rest of the united states . \n",
            "998 , and many officially became a comp\n",
            "\n",
            "--- Generated Text (Temperature: 1.0) ---\n",
            "ound the season was rolnd act as \" match against kingsomine minontage atyinshippic we 've five newal\n",
            "\n",
            "--- Generated Text (Temperature: 1.5) ---\n",
            " , \"9 october 3 dz )2 bears and upporces , with worldder wormer mobioishs . her 29 lane , 7oe py <un\n"
          ]
        }
      ]
    },
    {
      "cell_type": "markdown",
      "source": [
        "A primera vista se puede leer que ahora para todas las temperturas contienen algunas palabras bien escritas. Por otro lado, los resultados son ligeramente mejores, ya que si bien el texto es más conciso, no se acerca mucho al real. Hablando en terminos generales siguen siendo buenos resultados.\n"
      ],
      "metadata": {
        "id": "tNEcCkmN2gJ-"
      }
    },
    {
      "cell_type": "markdown",
      "source": [
        "## Primero modelo: Entrenamiento 2"
      ],
      "metadata": {
        "id": "EXvCv5iW2hX0"
      }
    },
    {
      "cell_type": "markdown",
      "source": [
        "Los resultados fueron mejores, pero aún no demasiado buenos, por lo que se procederá a volver a entrenar otras 50 epocas a un learning rate de 0.0001 para continuar tratando de converger hacia el minimo."
      ],
      "metadata": {
        "id": "Ta8myjrI2hYE"
      }
    },
    {
      "cell_type": "code",
      "source": [
        "if False:\n",
        "  K.set_value(model.optimizer.learning_rate, 0.0001)\n",
        "\n",
        "  history3 = model.fit(X_train, Y_train, batch_size=1024, epochs=50, verbose=1)"
      ],
      "metadata": {
        "id": "kcgGmu1FyMyW",
        "colab": {
          "base_uri": "https://localhost:8080/"
        },
        "outputId": "5647ab63-5d90-446c-fbd3-d03570f91d04"
      },
      "execution_count": null,
      "outputs": [
        {
          "output_type": "stream",
          "name": "stdout",
          "text": [
            "Epoch 1/50\n",
            "1346/1346 [==============================] - 233s 171ms/step - loss: 1.1571\n",
            "Epoch 2/50\n",
            "1346/1346 [==============================] - 246s 182ms/step - loss: 1.1562\n",
            "Epoch 3/50\n",
            "1346/1346 [==============================] - 249s 185ms/step - loss: 1.1558\n",
            "Epoch 4/50\n",
            "1346/1346 [==============================] - 249s 185ms/step - loss: 1.1555\n",
            "Epoch 5/50\n",
            "1346/1346 [==============================] - 249s 185ms/step - loss: 1.1551\n",
            "Epoch 6/50\n",
            "1346/1346 [==============================] - 249s 185ms/step - loss: 1.1547\n",
            "Epoch 7/50\n",
            "1346/1346 [==============================] - 249s 185ms/step - loss: 1.1544\n",
            "Epoch 8/50\n",
            "1346/1346 [==============================] - 249s 185ms/step - loss: 1.1541\n",
            "Epoch 9/50\n",
            "1346/1346 [==============================] - 250s 186ms/step - loss: 1.1537\n",
            "Epoch 10/50\n",
            "1346/1346 [==============================] - 250s 186ms/step - loss: 1.1534\n",
            "Epoch 11/50\n",
            "1346/1346 [==============================] - 249s 185ms/step - loss: 1.1531\n",
            "Epoch 12/50\n",
            "1346/1346 [==============================] - 250s 186ms/step - loss: 1.1528\n",
            "Epoch 13/50\n",
            "1346/1346 [==============================] - 250s 186ms/step - loss: 1.1525\n",
            "Epoch 14/50\n",
            "1346/1346 [==============================] - 249s 185ms/step - loss: 1.1521\n",
            "Epoch 15/50\n",
            "1346/1346 [==============================] - 249s 185ms/step - loss: 1.1518\n",
            "Epoch 16/50\n",
            "1346/1346 [==============================] - 248s 185ms/step - loss: 1.1515\n",
            "Epoch 17/50\n",
            "1346/1346 [==============================] - 248s 184ms/step - loss: 1.1511\n",
            "Epoch 18/50\n",
            "1346/1346 [==============================] - 248s 184ms/step - loss: 1.1508\n",
            "Epoch 19/50\n",
            "1346/1346 [==============================] - 248s 185ms/step - loss: 1.1505\n",
            "Epoch 20/50\n",
            "1346/1346 [==============================] - 251s 186ms/step - loss: 1.1501\n",
            "Epoch 21/50\n",
            "1346/1346 [==============================] - 251s 187ms/step - loss: 1.1499\n",
            "Epoch 22/50\n",
            "1346/1346 [==============================] - 251s 186ms/step - loss: 1.1495\n",
            "Epoch 23/50\n",
            "1346/1346 [==============================] - 250s 186ms/step - loss: 1.1492\n",
            "Epoch 24/50\n",
            "1346/1346 [==============================] - 251s 186ms/step - loss: 1.1489\n",
            "Epoch 25/50\n",
            "1346/1346 [==============================] - 249s 185ms/step - loss: 1.1486\n",
            "Epoch 26/50\n",
            "1346/1346 [==============================] - 249s 185ms/step - loss: 1.1482\n",
            "Epoch 27/50\n",
            "1346/1346 [==============================] - 249s 185ms/step - loss: 1.1480\n",
            "Epoch 28/50\n",
            "1346/1346 [==============================] - 249s 185ms/step - loss: 1.1476\n",
            "Epoch 29/50\n",
            "1346/1346 [==============================] - 249s 185ms/step - loss: 1.1473\n",
            "Epoch 30/50\n",
            "1346/1346 [==============================] - 249s 185ms/step - loss: 1.1470\n",
            "Epoch 31/50\n",
            "1346/1346 [==============================] - 250s 186ms/step - loss: 1.1467\n",
            "Epoch 32/50\n",
            "1346/1346 [==============================] - 250s 186ms/step - loss: 1.1464\n",
            "Epoch 33/50\n",
            "1346/1346 [==============================] - 250s 186ms/step - loss: 1.1461\n",
            "Epoch 34/50\n",
            "1346/1346 [==============================] - 250s 186ms/step - loss: 1.1458\n",
            "Epoch 35/50\n",
            "1346/1346 [==============================] - 250s 186ms/step - loss: 1.1454\n",
            "Epoch 36/50\n",
            "1346/1346 [==============================] - 251s 186ms/step - loss: 1.1451\n",
            "Epoch 37/50\n",
            "1346/1346 [==============================] - 250s 186ms/step - loss: 1.1448\n",
            "Epoch 38/50\n",
            "1346/1346 [==============================] - 250s 186ms/step - loss: 1.1445\n",
            "Epoch 39/50\n",
            "1346/1346 [==============================] - 251s 186ms/step - loss: 1.1442\n",
            "Epoch 40/50\n",
            "1346/1346 [==============================] - 250s 186ms/step - loss: 1.1439\n",
            "Epoch 41/50\n",
            "1346/1346 [==============================] - 251s 186ms/step - loss: 1.1436\n",
            "Epoch 42/50\n",
            "1346/1346 [==============================] - 251s 187ms/step - loss: 1.1433\n",
            "Epoch 43/50\n",
            "1346/1346 [==============================] - 251s 186ms/step - loss: 1.1430\n",
            "Epoch 44/50\n",
            "1346/1346 [==============================] - 251s 186ms/step - loss: 1.1427\n",
            "Epoch 45/50\n",
            "1346/1346 [==============================] - 251s 186ms/step - loss: 1.1424\n",
            "Epoch 46/50\n",
            "1346/1346 [==============================] - 250s 186ms/step - loss: 1.1421\n",
            "Epoch 47/50\n",
            "1346/1346 [==============================] - 251s 187ms/step - loss: 1.1417\n",
            "Epoch 48/50\n",
            "1346/1346 [==============================] - 252s 187ms/step - loss: 1.1414\n",
            "Epoch 49/50\n",
            "1346/1346 [==============================] - 251s 186ms/step - loss: 1.1412\n",
            "Epoch 50/50\n",
            "1346/1346 [==============================] - 251s 187ms/step - loss: 1.1408\n"
          ]
        }
      ]
    },
    {
      "cell_type": "markdown",
      "source": [
        "Guardamos el modelo y el historial."
      ],
      "metadata": {
        "id": "YVi3lyRh3Inf"
      }
    },
    {
      "cell_type": "code",
      "source": [
        "if False:\n",
        "  model.save('model_3.h5')\n",
        "\n",
        "  with open('history3.pkl', 'wb') as file:\n",
        "    pickle.dump(history3.history, file)"
      ],
      "metadata": {
        "id": "B8Xs9Jnj-hvg"
      },
      "execution_count": null,
      "outputs": []
    },
    {
      "cell_type": "markdown",
      "source": [
        "Mostramos el historial."
      ],
      "metadata": {
        "id": "IIeRM8ct3i_I"
      }
    },
    {
      "cell_type": "code",
      "source": [
        "# Cargar el archivo history.pkl\n",
        "with open('history3.pkl', 'rb') as file:\n",
        "    history = pickle.load(file)\n",
        "\n",
        "# Obtener la pérdida del conjunto de entrenamiento\n",
        "loss = history['loss']\n",
        "\n",
        "# Graficar la pérdida del conjunto de entrenamiento\n",
        "plt.figure(figsize=(8, 6))\n",
        "plt.plot(loss, label='Perdida durante entrenamiento')\n",
        "plt.title('Perdida: Modelo 1 y entrenamiento 3')\n",
        "plt.xlabel('Epocas')\n",
        "plt.ylabel('Perdida')\n",
        "plt.legend()\n",
        "plt.grid(True)\n",
        "plt.show()"
      ],
      "metadata": {
        "colab": {
          "base_uri": "https://localhost:8080/",
          "height": 564
        },
        "id": "SssAQXhB3a7V",
        "outputId": "e2e763b2-670b-4778-af24-86363016c6ca"
      },
      "execution_count": 26,
      "outputs": [
        {
          "output_type": "display_data",
          "data": {
            "text/plain": [
              "<Figure size 800x600 with 1 Axes>"
            ],
            "image/png": "[encoded data removed]"
          },
          "metadata": {}
        }
      ]
    },
    {
      "cell_type": "markdown",
      "source": [
        "Es posible notar que baja completamente más lento que nunca, que es un resultado natural al considerar el learning rate."
      ],
      "metadata": {
        "id": "-dusNPAU3mhD"
      }
    },
    {
      "cell_type": "markdown",
      "source": [
        "Se carga el modelo para predicciones."
      ],
      "metadata": {
        "id": "WJhxG4Uv3SAI"
      }
    },
    {
      "cell_type": "code",
      "source": [
        "model = load_model('model_3.h5')"
      ],
      "metadata": {
        "id": "Df9EPVBvcJjy"
      },
      "execution_count": 27,
      "outputs": []
    },
    {
      "cell_type": "code",
      "source": [
        "random.seed(123)\n",
        "idx = random.randint(0, len(X_test))\n",
        "pattern = X_test[idx].flatten().tolist()\n",
        "real_sequence = Y_test[idx:idx+100].flatten().tolist()\n",
        "\n",
        "print(\"Initial Pattern : {}\".format(\"\".join([tokenizer.index_word[idx] for idx in pattern])))\n",
        "print(\"Real Sequence : {}\".format(\"\".join([tokenizer.index_word[idx] for idx in real_sequence])))\n",
        "\n",
        "\n",
        "temperatures = [0.2, 0.5, 1.0, 1.5]  # Lista de diferentes valores de temperatura\n",
        "\n",
        "for temp in temperatures:\n",
        "    print(f\"\\n--- Generated Text (Temperature: {temp}) ---\")\n",
        "    generated_text = []\n",
        "    for i in range(100):\n",
        "        X_batch = np.array(pattern, dtype=np.int32).reshape(1, seq_length, 1)\n",
        "        preds = model.predict(X_batch, verbose=0)\n",
        "\n",
        "        # Aplicar temperatura a las predicciones antes de muestrear el índice\n",
        "        preds = np.asarray(preds).astype('float64')\n",
        "        preds = np.log(preds) / temp\n",
        "        exp_preds = np.exp(preds)\n",
        "        preds = exp_preds / np.sum(exp_preds)\n",
        "\n",
        "        # Muestreo de acuerdo a las probabilidades ajustadas por temperatura\n",
        "        predicted_index = np.random.choice(len(preds[0]), p=preds[0])\n",
        "\n",
        "        generated_text.append(predicted_index)\n",
        "        pattern.append(predicted_index)\n",
        "        pattern = pattern[1:]\n",
        "\n",
        "    print(\"\".join([tokenizer.index_word[idx] for idx in generated_text]))"
      ],
      "metadata": {
        "id": "W4vwWF1ByRnr",
        "colab": {
          "base_uri": "https://localhost:8080/",
          "height": 0
        },
        "outputId": "7d25d6e4-54a9-4613-e623-b27b0007bf32"
      },
      "execution_count": 28,
      "outputs": [
        {
          "output_type": "stream",
          "name": "stdout",
          "text": [
            "Initial Pattern : f how to curse directed by <unk> <unk> . how to curse was performed at bush theatre in the london bo\n",
            "Real Sequence : rough of <unk> and fulham . in a review of the production for the daily telegraph , theatre critic c\n",
            "\n",
            "--- Generated Text (Temperature: 0.2) ---\n"
          ]
        },
        {
          "output_type": "stream",
          "name": "stderr",
          "text": [
            "<ipython-input-28-56e445f52def>:21: RuntimeWarning: divide by zero encountered in log\n",
            "  preds = np.log(preds) / temp\n"
          ]
        },
        {
          "output_type": "stream",
          "name": "stdout",
          "text": [
            "ok . the song was still a second community of the original story of the song was selected to the sec\n",
            "\n",
            "--- Generated Text (Temperature: 0.5) ---\n",
            "ond partially listeners . he also still history in the opening some periods . the blue was the idea \n",
            "\n",
            "--- Generated Text (Temperature: 1.0) ---\n",
            "<unk> , as an angle @-@ giller chiats that its two @-@ american lrania 's percain . \n",
            "unk> — for goer\n",
            "\n",
            "--- Generated Text (Temperature: 1.5) ---\n",
            "ents of mhikals 0 ] vipatls ) winnerary garrlcland freywer , except deliber iineuphilmtionb to coty \n"
          ]
        }
      ]
    },
    {
      "cell_type": "markdown",
      "source": [
        "Son los resultados más gramaticalmente correctos y concisos, sin embargo, tambien los más alejados del texto real. Ahora las primeras 3 temperaturas contienen texto entendible y es un resultado bastante satisfactorio. Dejando de lado el hecho de que el texto es alejado al real, mantiene un buen sentido contextual."
      ],
      "metadata": {
        "id": "Ahx72URb4fU9"
      }
    },
    {
      "cell_type": "markdown",
      "source": [
        "## Segundo Modelo: Primer entrenamiento"
      ],
      "metadata": {
        "id": "yN-uTqII59VN"
      }
    },
    {
      "cell_type": "markdown",
      "source": [
        "Ahora que se han obtenido resultados para diferentes entrenamientos del modelo, se procederá a diseñar otro modelo cambian un hiperparametro que es: el tamaño de la secuencia. Se considero así, bajo la premisa de que quiza, si el modelo aprende apartir de secuencias un tanto más largas sería capaz de aprender y definir mejor los patrones y por lo tanto desempeñarse mucho mejor. Esto cambia tanto el tamaño del tensor de entrenamiento y prueba, como la entrada de la RNN."
      ],
      "metadata": {
        "id": "IlL82LIp59Si"
      }
    },
    {
      "cell_type": "markdown",
      "source": [
        "Dado lo anterior, es necesario volver a definir los subconjuntos de entrenamiento y prueba.\n",
        "\n",
        "Primero el de entrenamiento:"
      ],
      "metadata": {
        "id": "fhB_MRs98VHs"
      }
    },
    {
      "cell_type": "code",
      "execution_count": 29,
      "metadata": {
        "colab": {
          "base_uri": "https://localhost:8080/",
          "height": 0
        },
        "outputId": "d42bfb31-4a2e-4442-8c68-d407013e85f6",
        "id": "w1-3ksL559-W"
      },
      "outputs": [
        {
          "output_type": "execute_result",
          "data": {
            "text/plain": [
              "((1329756, 120, 1), (1329756,))"
            ]
          },
          "metadata": {},
          "execution_count": 29
        }
      ],
      "source": [
        "seq_length = 120 #Cambiamos el tamaños\n",
        "\n",
        "X_train, Y_train = [], []\n",
        "\n",
        "for text in X_train_text[:6000]:\n",
        "    for i in range(0, len(text)-seq_length):\n",
        "        inp_seq = text[i:i+seq_length].lower()\n",
        "        out_seq = text[i+seq_length].lower()\n",
        "        X_train.append(inp_seq)\n",
        "        Y_train.append(tokenizer.word_index[out_seq])\n",
        "\n",
        "X_train = tokenizer.texts_to_sequences(X_train) ## Retrieve index for characters from vocabulary\n",
        "\n",
        "X_train, Y_train = np.array(X_train, dtype=np.int32).reshape(-1, seq_length,1), np.array(Y_train)\n",
        "\n",
        "X_train.shape, Y_train.shape"
      ]
    },
    {
      "cell_type": "markdown",
      "source": [
        "Luego el de prueba"
      ],
      "metadata": {
        "id": "OwziOq4F8kLc"
      }
    },
    {
      "cell_type": "code",
      "source": [
        "seq_length = 120 # Tamaño de la secuencia\n",
        "X_test, Y_test = [], []\n",
        "\n",
        "for text in X_test_text[:200]: #Numero de ejemplos a usar\n",
        "    for i in range(0, len(text)-seq_length):\n",
        "        inp_seq = text[i:i+seq_length].lower()\n",
        "        out_seq = text[i+seq_length].lower()\n",
        "        X_test.append(inp_seq)\n",
        "        Y_test.append(tokenizer.word_index[out_seq]) ## Retrieve index for characters from vocabulary\n",
        "\n",
        "X_test = tokenizer.texts_to_sequences(X_test) ## Retrieve index for characters from vocabulary\n",
        "\n",
        "X_test, Y_test = np.array(X_test, dtype=np.int32).reshape(-1, seq_length,1), np.array(Y_test)\n",
        "\n",
        "X_test.shape, Y_test.shape"
      ],
      "metadata": {
        "colab": {
          "base_uri": "https://localhost:8080/",
          "height": 0
        },
        "id": "Z1gjLnss6Wba",
        "outputId": "ea3bb054-a445-42a4-97b8-d75418eba200"
      },
      "execution_count": 30,
      "outputs": [
        {
          "output_type": "execute_result",
          "data": {
            "text/plain": [
              "((40839, 120, 1), (40839,))"
            ]
          },
          "metadata": {},
          "execution_count": 30
        }
      ]
    },
    {
      "cell_type": "markdown",
      "source": [
        "Posteriormente, se rediseña la RNN, manteniendo la misma secuencia de capas y demás hiperparametros."
      ],
      "metadata": {
        "id": "dF0ouMzS8lwV"
      }
    },
    {
      "cell_type": "code",
      "execution_count": null,
      "metadata": {
        "colab": {
          "base_uri": "https://localhost:8080/"
        },
        "outputId": "5ef7fb13-ee18-4216-851e-97bd045b1513",
        "id": "QoInbGio59-X"
      },
      "outputs": [
        {
          "output_type": "stream",
          "name": "stdout",
          "text": [
            "Model: \"sequential\"\n",
            "_________________________________________________________________\n",
            " Layer (type)                Output Shape              Param #   \n",
            "=================================================================\n",
            " lstm (LSTM)                 (None, 120, 256)          264192    \n",
            "                                                                 \n",
            " lstm_1 (LSTM)               (None, 256)               525312    \n",
            "                                                                 \n",
            " dense (Dense)               (None, 244)               62708     \n",
            "                                                                 \n",
            "=================================================================\n",
            "Total params: 852212 (3.25 MB)\n",
            "Trainable params: 852212 (3.25 MB)\n",
            "Non-trainable params: 0 (0.00 Byte)\n",
            "_________________________________________________________________\n"
          ]
        }
      ],
      "source": [
        "lstm_out = 256\n",
        "\n",
        "model = Sequential([\n",
        "                    LSTM(lstm_out, input_shape=(seq_length, 1), return_sequences=True),\n",
        "                    LSTM(lstm_out),\n",
        "                    Dense(len(tokenizer.word_index)+1, activation=\"softmax\")\n",
        "                ])\n",
        "\n",
        "\n",
        "model.summary()"
      ]
    },
    {
      "cell_type": "markdown",
      "source": [
        "Se compila."
      ],
      "metadata": {
        "id": "UukilRgO8uxj"
      }
    },
    {
      "cell_type": "code",
      "execution_count": null,
      "metadata": {
        "id": "08LjJUS759-X"
      },
      "outputs": [],
      "source": [
        "model.compile(optimizer=Adam(learning_rate=0.001), loss=\"sparse_categorical_crossentropy\")"
      ]
    },
    {
      "cell_type": "markdown",
      "source": [
        "Entrenamos el modelo por 50 epocas y mantenemos el batch size."
      ],
      "metadata": {
        "id": "wuoX-Cl19Qai"
      }
    },
    {
      "cell_type": "code",
      "execution_count": null,
      "metadata": {
        "colab": {
          "background_save": true,
          "base_uri": "https://localhost:8080/"
        },
        "outputId": "262e0db7-58e2-4e08-d603-b072a39b7eed",
        "id": "lhleoKzV59-Y"
      },
      "outputs": [
        {
          "name": "stdout",
          "output_type": "stream",
          "text": [
            "Epoch 1/50\n",
            "1299/1299 [==============================] - 271s 203ms/step - loss: 2.4860\n",
            "Epoch 2/50\n",
            "1299/1299 [==============================] - 277s 213ms/step - loss: 2.1102\n",
            "Epoch 3/50\n",
            "1299/1299 [==============================] - 276s 213ms/step - loss: 1.9744\n",
            "Epoch 4/50\n",
            "1299/1299 [==============================] - 276s 213ms/step - loss: 1.8785\n",
            "Epoch 5/50\n",
            "1299/1299 [==============================] - 276s 212ms/step - loss: 1.8061\n",
            "Epoch 6/50\n",
            "1299/1299 [==============================] - 275s 212ms/step - loss: 1.7489\n",
            "Epoch 7/50\n",
            "1299/1299 [==============================] - 275s 212ms/step - loss: 1.7018\n",
            "Epoch 8/50\n",
            "1299/1299 [==============================] - 275s 211ms/step - loss: 1.6622\n",
            "Epoch 9/50\n",
            "1299/1299 [==============================] - 274s 211ms/step - loss: 1.6281\n",
            "Epoch 10/50\n",
            "1299/1299 [==============================] - 274s 211ms/step - loss: 1.5997\n",
            "Epoch 11/50\n",
            "1299/1299 [==============================] - 274s 211ms/step - loss: 1.5740\n",
            "Epoch 12/50\n",
            "1299/1299 [==============================] - 273s 211ms/step - loss: 1.5504\n",
            "Epoch 13/50\n",
            "1299/1299 [==============================] - 273s 211ms/step - loss: 1.5298\n",
            "Epoch 14/50\n",
            "1299/1299 [==============================] - 273s 210ms/step - loss: 1.5116\n",
            "Epoch 15/50\n",
            "1299/1299 [==============================] - 273s 210ms/step - loss: 1.4943\n",
            "Epoch 16/50\n",
            "1299/1299 [==============================] - 273s 210ms/step - loss: 1.4792\n",
            "Epoch 17/50\n",
            "1299/1299 [==============================] - 273s 210ms/step - loss: 1.4653\n",
            "Epoch 18/50\n",
            "1299/1299 [==============================] - 273s 210ms/step - loss: 1.4526\n",
            "Epoch 19/50\n",
            "1299/1299 [==============================] - 273s 210ms/step - loss: 1.4405\n",
            "Epoch 20/50\n",
            "1299/1299 [==============================] - 273s 210ms/step - loss: 1.4294\n",
            "Epoch 21/50\n",
            "1299/1299 [==============================] - 273s 210ms/step - loss: 1.4192\n",
            "Epoch 22/50\n",
            "1299/1299 [==============================] - 273s 210ms/step - loss: 1.4095\n",
            "Epoch 23/50\n",
            "1299/1299 [==============================] - 272s 210ms/step - loss: 1.4038\n",
            "Epoch 24/50\n",
            "1299/1299 [==============================] - 272s 210ms/step - loss: 1.3934\n",
            "Epoch 25/50\n",
            "1299/1299 [==============================] - 272s 210ms/step - loss: 1.3855\n",
            "Epoch 26/50\n",
            "1299/1299 [==============================] - 272s 210ms/step - loss: 1.3777\n",
            "Epoch 27/50\n",
            "1299/1299 [==============================] - 272s 210ms/step - loss: 1.3704\n",
            "Epoch 28/50\n",
            "1299/1299 [==============================] - 272s 210ms/step - loss: 1.3635\n",
            "Epoch 29/50\n",
            "1299/1299 [==============================] - 272s 210ms/step - loss: 1.3572\n",
            "Epoch 30/50\n",
            "1299/1299 [==============================] - 272s 210ms/step - loss: 1.3509\n",
            "Epoch 31/50\n",
            "1299/1299 [==============================] - 272s 210ms/step - loss: 1.3450\n",
            "Epoch 32/50\n",
            "1299/1299 [==============================] - 272s 210ms/step - loss: 1.3390\n",
            "Epoch 33/50\n",
            "1299/1299 [==============================] - 272s 209ms/step - loss: 1.3337\n",
            "Epoch 34/50\n",
            "1299/1299 [==============================] - 272s 209ms/step - loss: 1.3284\n",
            "Epoch 35/50\n",
            "1299/1299 [==============================] - 272s 209ms/step - loss: 1.3238\n",
            "Epoch 36/50\n",
            "1299/1299 [==============================] - 272s 209ms/step - loss: 1.3185\n",
            "Epoch 37/50\n",
            "1299/1299 [==============================] - 272s 209ms/step - loss: 1.3140\n",
            "Epoch 38/50\n",
            "1299/1299 [==============================] - 272s 210ms/step - loss: 1.3095\n",
            "Epoch 39/50\n",
            "1299/1299 [==============================] - 272s 209ms/step - loss: 1.3051\n",
            "Epoch 40/50\n",
            "1299/1299 [==============================] - 272s 210ms/step - loss: 1.3003\n",
            "Epoch 41/50\n",
            "1299/1299 [==============================] - 272s 209ms/step - loss: 1.2970\n",
            "Epoch 42/50\n",
            "1299/1299 [==============================] - 272s 209ms/step - loss: 1.2931\n",
            "Epoch 43/50\n",
            "1299/1299 [==============================] - 272s 210ms/step - loss: 1.2892\n",
            "Epoch 44/50\n",
            "1299/1299 [==============================] - 272s 209ms/step - loss: 1.2851\n",
            "Epoch 45/50\n",
            "1299/1299 [==============================] - 272s 209ms/step - loss: 1.2817\n",
            "Epoch 46/50\n",
            "1299/1299 [==============================] - 272s 209ms/step - loss: 1.2785\n",
            "Epoch 47/50\n",
            "1299/1299 [==============================] - 272s 209ms/step - loss: 1.2750\n",
            "Epoch 48/50\n",
            "1299/1299 [==============================] - 272s 210ms/step - loss: 1.2720\n",
            "Epoch 49/50\n",
            "1299/1299 [==============================] - 272s 210ms/step - loss: 1.2687\n",
            "Epoch 50/50\n",
            "1299/1299 [==============================] - 272s 210ms/step - loss: 1.2654\n"
          ]
        }
      ],
      "source": [
        "if False:\n",
        "  history12 = model.fit(X_train, Y_train, batch_size=1024, epochs=50, verbose=1)"
      ]
    },
    {
      "cell_type": "markdown",
      "source": [
        "Continuamos guardando el modelo y su historial."
      ],
      "metadata": {
        "id": "-BmQcvnc9YXm"
      }
    },
    {
      "cell_type": "code",
      "execution_count": null,
      "metadata": {
        "colab": {
          "background_save": true
        },
        "id": "_gtVrzSYyf3l"
      },
      "outputs": [],
      "source": [
        "if False:\n",
        "  model.save('model_12.h5')\n",
        "\n",
        "  with open('history12.pkl', 'wb') as file:\n",
        "      pickle.dump(history12.history, file)\n",
        "\n"
      ]
    },
    {
      "cell_type": "markdown",
      "source": [
        "Mostramos el primer historial de perdida."
      ],
      "metadata": {
        "id": "Fqhz3xm09fT3"
      }
    },
    {
      "cell_type": "code",
      "source": [
        "# Cargar el archivo history.pkl\n",
        "with open('history12.pkl', 'rb') as file:\n",
        "    history = pickle.load(file)\n",
        "\n",
        "# Obtener la pérdida del conjunto de entrenamiento\n",
        "loss = history['loss']\n",
        "\n",
        "# Graficar la pérdida del conjunto de entrenamiento\n",
        "plt.figure(figsize=(8, 6))\n",
        "plt.plot(loss, label='Perdida durante entrenamiento')\n",
        "plt.title('Perdida: Modelo 2 y entrenamiento 1')\n",
        "plt.xlabel('Epocas')\n",
        "plt.ylabel('Perdida')\n",
        "plt.legend()\n",
        "plt.grid(True)\n",
        "plt.show()"
      ],
      "metadata": {
        "id": "2vbLafGE53qq",
        "colab": {
          "base_uri": "https://localhost:8080/",
          "height": 564
        },
        "outputId": "aa555d14-cd5e-4b4f-d7fb-5fa317a80f59"
      },
      "execution_count": 33,
      "outputs": [
        {
          "output_type": "display_data",
          "data": {
            "text/plain": [
              "<Figure size 800x600 with 1 Axes>"
            ],
            "image/png": "[encoded data removed]"
          },
          "metadata": {}
        }
      ]
    },
    {
      "cell_type": "markdown",
      "source": [
        "En general luce bastante similar al del anterior modelo, baja exponencialmente y trata de converger hacia un punto, no hay mucho que decir ya que no se tienen valores exactos."
      ],
      "metadata": {
        "id": "r0vGO28m9iE8"
      }
    },
    {
      "cell_type": "markdown",
      "source": [
        "Se carga el modelo y se realizan predicciones."
      ],
      "metadata": {
        "id": "Y4lhmpJ09xai"
      }
    },
    {
      "cell_type": "code",
      "execution_count": 35,
      "metadata": {
        "id": "CBzr7fhU59-Z"
      },
      "outputs": [],
      "source": [
        "model = load_model('model_12.h5')"
      ]
    },
    {
      "cell_type": "code",
      "execution_count": 36,
      "metadata": {
        "colab": {
          "base_uri": "https://localhost:8080/",
          "height": 0
        },
        "outputId": "793df99f-5326-46fc-d0f1-5fcc7ddfe4f2",
        "id": "n1hdBeSf59-Z"
      },
      "outputs": [
        {
          "output_type": "stream",
          "name": "stdout",
          "text": [
            "Initial Pattern : tre in the london borough of <unk> and fulham . in a review of the production for the daily telegraph , theatre critic c\n",
            "Real Sequence : harles spencer noted , \" robert <unk> brings a touching vulnerability to the stage as william . \" \n",
            " \n",
            "\n",
            "--- Generated Text (Temperature: 0.2) ---\n"
          ]
        },
        {
          "output_type": "stream",
          "name": "stderr",
          "text": [
            "<ipython-input-36-56e445f52def>:21: RuntimeWarning: divide by zero encountered in log\n",
            "  preds = np.log(preds) / temp\n"
          ]
        },
        {
          "output_type": "stream",
          "name": "stdout",
          "text": [
            "onsiders , and the shop and the same person , which was a controlled post of the season . \n",
            " @.@ 10 i\n",
            "\n",
            "--- Generated Text (Temperature: 0.5) ---\n",
            "n the world war , and the song was not a single and a great night to the political propraphic long ,\n",
            "\n",
            "--- Generated Text (Temperature: 1.0) ---\n",
            " and allowed all over upriva . but , outober 29 august , jr <unk> critics was ever \" the state and m\n",
            "\n",
            "--- Generated Text (Temperature: 1.5) ---\n",
            "adone citvel . \n",
            "7 erlopk high pemome annudars any placed hkdnevalz . \n",
            ".. spirnshov is proowetez in a\n"
          ]
        }
      ],
      "source": [
        "random.seed(123)\n",
        "idx = random.randint(0, len(X_test))\n",
        "pattern = X_test[idx].flatten().tolist()\n",
        "real_sequence = Y_test[idx:idx+100].flatten().tolist()\n",
        "\n",
        "print(\"Initial Pattern : {}\".format(\"\".join([tokenizer.index_word[idx] for idx in pattern])))\n",
        "print(\"Real Sequence : {}\".format(\"\".join([tokenizer.index_word[idx] for idx in real_sequence])))\n",
        "\n",
        "\n",
        "temperatures = [0.2, 0.5, 1.0, 1.5]  # Lista de diferentes valores de temperatura\n",
        "\n",
        "for temp in temperatures:\n",
        "    print(f\"\\n--- Generated Text (Temperature: {temp}) ---\")\n",
        "    generated_text = []\n",
        "    for i in range(100):\n",
        "        X_batch = np.array(pattern, dtype=np.int32).reshape(1, seq_length, 1)\n",
        "        preds = model.predict(X_batch, verbose=0)\n",
        "\n",
        "        # Aplicar temperatura a las predicciones antes de muestrear el índice\n",
        "        preds = np.asarray(preds).astype('float64')\n",
        "        preds = np.log(preds) / temp\n",
        "        exp_preds = np.exp(preds)\n",
        "        preds = exp_preds / np.sum(exp_preds)\n",
        "\n",
        "        # Muestreo de acuerdo a las probabilidades ajustadas por temperatura\n",
        "        predicted_index = np.random.choice(len(preds[0]), p=preds[0])\n",
        "\n",
        "        generated_text.append(predicted_index)\n",
        "        pattern.append(predicted_index)\n",
        "        pattern = pattern[1:]\n",
        "\n",
        "    print(\"\".join([tokenizer.index_word[idx] for idx in generated_text]))\n"
      ]
    },
    {
      "cell_type": "markdown",
      "source": [
        "Notamos que a diferencia del primer modelo, este para las primeras 3 temperaturas obtiene secuencias bastante logicas y con buena gramatica. A primera instancia se definiría que tal vez el cambio resulto en mejorar al modelo."
      ],
      "metadata": {
        "id": "zuUuW9CR-CJu"
      }
    },
    {
      "cell_type": "markdown",
      "source": [
        "Se continuará entrenando por otras 50 epocas con un learning rate de 0.0003, de igual forma que el anterior modelo."
      ],
      "metadata": {
        "id": "rydzRHec-0CE"
      }
    },
    {
      "cell_type": "code",
      "execution_count": null,
      "metadata": {
        "colab": {
          "base_uri": "https://localhost:8080/"
        },
        "outputId": "2cc58929-69ea-4ca5-e84c-a08704890878",
        "id": "LWNFkzOV59-a"
      },
      "outputs": [
        {
          "output_type": "stream",
          "name": "stdout",
          "text": [
            "Epoch 1/50\n",
            "1299/1299 [==============================] - 270s 202ms/step - loss: 1.2295\n",
            "Epoch 2/50\n",
            "1299/1299 [==============================] - 274s 211ms/step - loss: 1.2269\n",
            "Epoch 3/50\n",
            "1299/1299 [==============================] - 275s 212ms/step - loss: 1.2252\n",
            "Epoch 4/50\n",
            "1299/1299 [==============================] - 277s 213ms/step - loss: 1.2236\n",
            "Epoch 5/50\n",
            "1299/1299 [==============================] - 276s 213ms/step - loss: 1.2223\n",
            "Epoch 6/50\n",
            "1299/1299 [==============================] - 276s 212ms/step - loss: 1.2211\n",
            "Epoch 7/50\n",
            "1299/1299 [==============================] - 275s 212ms/step - loss: 1.2196\n",
            "Epoch 8/50\n",
            "1299/1299 [==============================] - 276s 212ms/step - loss: 1.2185\n",
            "Epoch 9/50\n",
            "1299/1299 [==============================] - 278s 214ms/step - loss: 1.2172\n",
            "Epoch 10/50\n",
            "1299/1299 [==============================] - 276s 212ms/step - loss: 1.2158\n",
            "Epoch 11/50\n",
            "1299/1299 [==============================] - 276s 212ms/step - loss: 1.2146\n",
            "Epoch 12/50\n",
            "1299/1299 [==============================] - 276s 212ms/step - loss: 1.2136\n",
            "Epoch 13/50\n",
            "1299/1299 [==============================] - 276s 212ms/step - loss: 1.2125\n",
            "Epoch 14/50\n",
            "1299/1299 [==============================] - 278s 214ms/step - loss: 1.2110\n",
            "Epoch 15/50\n",
            "1299/1299 [==============================] - 276s 212ms/step - loss: 1.2100\n",
            "Epoch 16/50\n",
            "1299/1299 [==============================] - 276s 212ms/step - loss: 1.2089\n",
            "Epoch 17/50\n",
            "1299/1299 [==============================] - 276s 212ms/step - loss: 1.2079\n",
            "Epoch 18/50\n",
            "1299/1299 [==============================] - 276s 212ms/step - loss: 1.2067\n",
            "Epoch 19/50\n",
            "1299/1299 [==============================] - 279s 215ms/step - loss: 1.2057\n",
            "Epoch 20/50\n",
            "1299/1299 [==============================] - 276s 213ms/step - loss: 1.2046\n",
            "Epoch 21/50\n",
            "1299/1299 [==============================] - 276s 213ms/step - loss: 1.2036\n",
            "Epoch 22/50\n",
            "1299/1299 [==============================] - 276s 212ms/step - loss: 1.2026\n",
            "Epoch 23/50\n",
            "1299/1299 [==============================] - 278s 214ms/step - loss: 1.2014\n",
            "Epoch 24/50\n",
            "1299/1299 [==============================] - 277s 213ms/step - loss: 1.2004\n",
            "Epoch 25/50\n",
            "1299/1299 [==============================] - 276s 213ms/step - loss: 1.1994\n",
            "Epoch 26/50\n",
            "1299/1299 [==============================] - 276s 213ms/step - loss: 1.1985\n",
            "Epoch 27/50\n",
            "1299/1299 [==============================] - 276s 213ms/step - loss: 1.1975\n",
            "Epoch 28/50\n",
            "1299/1299 [==============================] - 279s 214ms/step - loss: 1.1963\n",
            "Epoch 29/50\n",
            "1299/1299 [==============================] - 277s 213ms/step - loss: 1.1953\n",
            "Epoch 30/50\n",
            "1299/1299 [==============================] - 277s 213ms/step - loss: 1.1943\n",
            "Epoch 31/50\n",
            "1299/1299 [==============================] - 277s 213ms/step - loss: 1.1935\n",
            "Epoch 32/50\n",
            "1299/1299 [==============================] - 277s 213ms/step - loss: 1.1926\n",
            "Epoch 33/50\n",
            "1299/1299 [==============================] - 279s 215ms/step - loss: 1.1915\n",
            "Epoch 34/50\n",
            "1299/1299 [==============================] - 277s 213ms/step - loss: 1.1905\n",
            "Epoch 35/50\n",
            "1299/1299 [==============================] - 277s 213ms/step - loss: 1.1896\n",
            "Epoch 36/50\n",
            "1299/1299 [==============================] - 277s 213ms/step - loss: 1.1885\n",
            "Epoch 37/50\n",
            "1299/1299 [==============================] - 278s 214ms/step - loss: 1.1877\n",
            "Epoch 38/50\n",
            "1299/1299 [==============================] - 279s 214ms/step - loss: 1.1866\n",
            "Epoch 39/50\n",
            "1299/1299 [==============================] - 277s 213ms/step - loss: 1.1858\n",
            "Epoch 40/50\n",
            "1299/1299 [==============================] - 277s 213ms/step - loss: 1.1848\n",
            "Epoch 41/50\n",
            "1299/1299 [==============================] - 277s 213ms/step - loss: 1.1837\n",
            "Epoch 42/50\n",
            "1299/1299 [==============================] - 279s 215ms/step - loss: 1.1830\n",
            "Epoch 43/50\n",
            "1299/1299 [==============================] - 278s 214ms/step - loss: 1.1820\n",
            "Epoch 44/50\n",
            "1299/1299 [==============================] - 277s 213ms/step - loss: 1.1811\n",
            "Epoch 45/50\n",
            "1299/1299 [==============================] - 277s 214ms/step - loss: 1.1802\n",
            "Epoch 46/50\n",
            "1299/1299 [==============================] - 277s 214ms/step - loss: 1.1793\n",
            "Epoch 47/50\n",
            "1299/1299 [==============================] - 284s 218ms/step - loss: 1.1784\n",
            "Epoch 48/50\n",
            "1299/1299 [==============================] - 286s 220ms/step - loss: 1.1775\n",
            "Epoch 49/50\n",
            "1299/1299 [==============================] - 287s 221ms/step - loss: 1.1766\n",
            "Epoch 50/50\n",
            "1299/1299 [==============================] - 285s 219ms/step - loss: 1.1756\n"
          ]
        }
      ],
      "source": [
        "if False:\n",
        "  K.set_value(model.optimizer.learning_rate, 0.0003)\n",
        "  history122 = model.fit(X_train, Y_train, batch_size=1024, epochs=50, verbose=1)"
      ]
    },
    {
      "cell_type": "markdown",
      "source": [
        "Se guarda el modelo y el historial"
      ],
      "metadata": {
        "id": "I22ytrQi_BOv"
      }
    },
    {
      "cell_type": "code",
      "execution_count": null,
      "metadata": {
        "id": "Enm7fG8t59-a"
      },
      "outputs": [],
      "source": [
        "if False:\n",
        "  model.save('model_122.h5')\n",
        "\n",
        "  with open('history122.pkl', 'wb') as file:\n",
        "      pickle.dump(history122.history, file)"
      ]
    },
    {
      "cell_type": "markdown",
      "source": [
        "Mostramos el historial"
      ],
      "metadata": {
        "id": "eLhobYZC_Hm7"
      }
    },
    {
      "cell_type": "code",
      "source": [
        "# Cargar el archivo history.pkl\n",
        "with open('history122.pkl', 'rb') as file:\n",
        "    history = pickle.load(file)\n",
        "\n",
        "# Obtener la pérdida del conjunto de entrenamiento\n",
        "loss = history['loss']\n",
        "\n",
        "# Graficar la pérdida del conjunto de entrenamiento\n",
        "plt.figure(figsize=(8, 6))\n",
        "plt.plot(loss, label='Perdida durante entrenamiento')\n",
        "plt.title('Perdida: Modelo 2 y entrenamiento 2')\n",
        "plt.xlabel('Epocas')\n",
        "plt.ylabel('Perdida')\n",
        "plt.legend()\n",
        "plt.grid(True)\n",
        "plt.show()"
      ],
      "metadata": {
        "colab": {
          "base_uri": "https://localhost:8080/",
          "height": 564
        },
        "id": "doyzRhMR66F4",
        "outputId": "5110182e-ada3-4f3c-eef2-8d8a8553e819"
      },
      "execution_count": 34,
      "outputs": [
        {
          "output_type": "display_data",
          "data": {
            "text/plain": [
              "<Figure size 800x600 with 1 Axes>"
            ],
            "image/png": "[encoded data removed]"
          },
          "metadata": {}
        }
      ]
    },
    {
      "cell_type": "markdown",
      "source": [
        "En este caso, sí se nota una diferencia al compararlo con el anterior modelo, ya que en este los niveles de perdida no son tan bajos como en el anterior. Si bien esto podría ser preocupante, no puede obtenerse una conclusión apresurada debido a que existen diferentes explicaciones como el cambio en la función de perdida al aumentar el tamaño de la secuencia."
      ],
      "metadata": {
        "id": "kUqX4NT2_JvO"
      }
    },
    {
      "cell_type": "markdown",
      "source": [
        "Cargamos el modelo y predecimos."
      ],
      "metadata": {
        "id": "Kl-cXIj2_ofP"
      }
    },
    {
      "cell_type": "code",
      "execution_count": 37,
      "metadata": {
        "id": "pwTXrweo59-b"
      },
      "outputs": [],
      "source": [
        "model = load_model('model_122.h5')"
      ]
    },
    {
      "cell_type": "code",
      "execution_count": 38,
      "metadata": {
        "colab": {
          "base_uri": "https://localhost:8080/",
          "height": 0
        },
        "outputId": "01fba01c-8454-4c90-f75d-f1b72610a7be",
        "id": "0E8SG9mT59-b"
      },
      "outputs": [
        {
          "output_type": "stream",
          "name": "stdout",
          "text": [
            "Initial Pattern : tre in the london borough of <unk> and fulham . in a review of the production for the daily telegraph , theatre critic c\n",
            "Real Sequence : harles spencer noted , \" robert <unk> brings a touching vulnerability to the stage as william . \" \n",
            " \n",
            "\n",
            "--- Generated Text (Temperature: 0.2) ---\n"
          ]
        },
        {
          "output_type": "stream",
          "name": "stderr",
          "text": [
            "<ipython-input-38-56e445f52def>:21: RuntimeWarning: divide by zero encountered in log\n",
            "  preds = np.log(preds) / temp\n"
          ]
        },
        {
          "output_type": "stream",
          "name": "stdout",
          "text": [
            "ontrolled a special district of the country and the second team . the concept of the second time , t\n",
            "\n",
            "--- Generated Text (Temperature: 0.5) ---\n",
            "he album to the part of the converting in the team to patch , and a falling of the second community \n",
            "\n",
            "--- Generated Text (Temperature: 1.0) ---\n",
            "'s literal time – there idan available from the team was a <unk> chamber ; the <unk> vacdey @-@ tran\n",
            "\n",
            "--- Generated Text (Temperature: 1.5) ---\n",
            " biry knonguigs and 16nk> \" sujworked pich bingorkh variation counss itsigasing down thomaklish prac\n"
          ]
        }
      ],
      "source": [
        "random.seed(123)\n",
        "idx = random.randint(0, len(X_test))\n",
        "pattern = X_test[idx].flatten().tolist()\n",
        "real_sequence = Y_test[idx:idx+100].flatten().tolist()\n",
        "\n",
        "print(\"Initial Pattern : {}\".format(\"\".join([tokenizer.index_word[idx] for idx in pattern])))\n",
        "print(\"Real Sequence : {}\".format(\"\".join([tokenizer.index_word[idx] for idx in real_sequence])))\n",
        "\n",
        "\n",
        "temperatures = [0.2, 0.5, 1.0, 1.5]  # Lista de diferentes valores de temperatura\n",
        "\n",
        "for temp in temperatures:\n",
        "    print(f\"\\n--- Generated Text (Temperature: {temp}) ---\")\n",
        "    generated_text = []\n",
        "    for i in range(100):\n",
        "        X_batch = np.array(pattern, dtype=np.int32).reshape(1, seq_length, 1)\n",
        "        preds = model.predict(X_batch, verbose=0)\n",
        "\n",
        "        # Aplicar temperatura a las predicciones antes de muestrear el índice\n",
        "        preds = np.asarray(preds).astype('float64')\n",
        "        preds = np.log(preds) / temp\n",
        "        exp_preds = np.exp(preds)\n",
        "        preds = exp_preds / np.sum(exp_preds)\n",
        "\n",
        "        # Muestreo de acuerdo a las probabilidades ajustadas por temperatura\n",
        "        predicted_index = np.random.choice(len(preds[0]), p=preds[0])\n",
        "\n",
        "        generated_text.append(predicted_index)\n",
        "        pattern.append(predicted_index)\n",
        "        pattern = pattern[1:]\n",
        "\n",
        "    print(\"\".join([tokenizer.index_word[idx] for idx in generated_text]))"
      ]
    },
    {
      "cell_type": "markdown",
      "source": [
        "Parecería que en este caso, el modelo ahora alucina un poco más y se vuelven menos concisas las respuestas, siendo solo las primeras un poco más realistas. Esto podría en primera parte deberse a que posiblemente el modelo se este sobreajustando aún con el tamaño disminuido del learning rate.\n",
        "\n",
        "Debido a estos resultados, el modelo no se continuará entrenando."
      ],
      "metadata": {
        "id": "F5NYEoND_tEl"
      }
    },
    {
      "cell_type": "markdown",
      "source": [
        "\n",
        "\n",
        "---\n",
        "\n"
      ],
      "metadata": {
        "id": "iaG2pwXTAtvr"
      }
    },
    {
      "cell_type": "markdown",
      "source": [
        "## Resultados"
      ],
      "metadata": {
        "id": "j-BP-lGIA81m"
      }
    },
    {
      "cell_type": "markdown",
      "source": [
        "Dentro de los modelos que se entrenaron, no se podría definir que existe uno mejor que el otro, consideraría que ambos tienen sus ventajas en comparación del otro. El primero, se desempeña mucho mejor conforme se va entrenando más lo cual resulta una ventaja ya que es posible mejorarlo a través del tiempo. Por otro lado, el primero se desempeño bien con pocas epocas y esto resulta bastante bueno si no se cuenta con suficiente tiempo. El mayor de los problemas acerca del segundo modelo recae en el tiempo de entrenamiento, el cual fue de alrededor de 5 a 6 horas, lo cual puede volverse un problema de recuros y tiempo."
      ],
      "metadata": {
        "id": "7N50E4VeA748"
      }
    },
    {
      "cell_type": "markdown",
      "source": [
        "## Conclusión"
      ],
      "metadata": {
        "id": "PJ-A3dwV_2Y7"
      }
    },
    {
      "cell_type": "markdown",
      "source": [
        "A lo largo de este trabajo se pudo comprender adecuadamente el diseño, entrenamiento, prueba y uso de RNN para la generación de texto, utilizando capas LSTM con un enfoque de caracteres. Se logro obtener resultados satisfactorios con longitudes de secuencias de 100 y 120 caracteres a través de 4 temperaturas, siendo las dos primeras (0.2 y 0.5) las mejores para generar texto más conciso, gramaticamente correcto e incluso comprensible.\n",
        "\n",
        "No se logró analizar adecuadamente el desempeño debido a la falta de los resultados de precisión y validación durante el entrenamiento, lo cual hubiera servido para enfocar mejor los resultados a crear un mejor y más completo modelo.\n",
        "\n",
        "Para futuros trabajos, se recomendaría buscar entrenar los modelos durante más tiempo con menores learning rate, así como aumentar la cantidad de ejemplos a tomar para los subsets con el fin de proveer un entrenamiento más eficaz y lograr que el modelo generalice adecuadamente."
      ],
      "metadata": {
        "id": "E_PPmtZm_2xP"
      }
    }
  ]
}